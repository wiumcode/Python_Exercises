{
 "cells": [
  {
   "cell_type": "markdown",
   "metadata": {},
   "source": [
    "## W3 Exercises\n"
   ]
  },
  {
   "cell_type": "code",
   "execution_count": 3,
   "metadata": {},
   "outputs": [
    {
     "name": "stdout",
     "output_type": "stream",
     "text": [
      "Twinkle, twinkle, little star,\n",
      "\tHow I wonder What you are!\n",
      "\t\tUp above the world so high,\n",
      "\t\tLike a diamond in the Sky.\n",
      "Twinkle, twinkle, little star,\n",
      "\tHow I wonder what you are\n"
     ]
    }
   ],
   "source": [
    "#1 -  print song in a specific format\n",
    "print(\"Twinkle, twinkle, little star,\\n\\tHow I wonder What you are!\\n\\t\\tUp above the world so high,\\n\\t\\tLike a diamond in the Sky.\\nTwinkle, twinkle, little star,\\n\\tHow I wonder what you are\")"
   ]
  },
  {
   "cell_type": "code",
   "execution_count": 4,
   "metadata": {},
   "outputs": [
    {
     "name": "stdout",
     "output_type": "stream",
     "text": [
      "python version:\n",
      "3.12.3 (tags/v3.12.3:f6650f9, Apr  9 2024, 14:05:25) [MSC v.1938 64 bit (AMD64)]\n",
      "python info:\n",
      "sys.version_info(major=3, minor=12, micro=3, releaselevel='final', serial=0)\n"
     ]
    }
   ],
   "source": [
    "#2 - Write a Python program to find out what version of Python you are using\n",
    "#check system version\n",
    "import sys\n",
    "import platform\n",
    "\n",
    "print(\"python version:\")\n",
    "print(sys.version)\n",
    "print(\"python info:\")\n",
    "print(sys.version_info)"
   ]
  },
  {
   "cell_type": "code",
   "execution_count": 5,
   "metadata": {},
   "outputs": [
    {
     "name": "stdout",
     "output_type": "stream",
     "text": [
      "Current time (GMT0): 2024-07-20 19:48:30.640332\n"
     ]
    }
   ],
   "source": [
    "#3 Write a Python program to display the current date and time\n",
    "import datetime\n",
    "\n",
    "current_time  = datetime.datetime.now()\n",
    "\n",
    "print(\"Current time (GMT0):\", current_time)"
   ]
  },
  {
   "cell_type": "code",
   "execution_count": 6,
   "metadata": {},
   "outputs": [
    {
     "name": "stdout",
     "output_type": "stream",
     "text": [
      "based on the radious of 5.0, the area of the circle is 78.54\n"
     ]
    }
   ],
   "source": [
    "#4 Write a Python program that calculates the area of a circle based on the radius entered by the user\n",
    "pi = 3.1415\n",
    "r = float(input(\"Input radius\"))\n",
    "a = pi * r **2\n",
    "print(f\"based on the radious of {r}, the area of the circle is {a:.2f}\")"
   ]
  },
  {
   "cell_type": "code",
   "execution_count": 7,
   "metadata": {},
   "outputs": [
    {
     "name": "stdout",
     "output_type": "stream",
     "text": [
      "your name is human wium\n"
     ]
    }
   ],
   "source": [
    "#5 Write a Python program that accepts the user's first and last name and prints them in reverse order with a space between them\n",
    "first_name = input(\"input first name:\")\n",
    "last_name = input(\"input last name:\")\n",
    "print(f\"your name is {last_name} {first_name}\")"
   ]
  },
  {
   "cell_type": "code",
   "execution_count": 8,
   "metadata": {},
   "outputs": [
    {
     "name": "stdout",
     "output_type": "stream",
     "text": [
      "list: ['1', ' 2', ' 3', ' 4', ' 5']\n",
      "touple: ('1', ' 2', ' 3', ' 4', ' 5')\n"
     ]
    }
   ],
   "source": [
    "#6a Write a Python program that accepts a sequence of comma-separated numbers from the user and generates a list and tuple of those numbers\n",
    "values = input(\"input a series of numbers separated by commas:\")\n",
    "list1 = values.split(\",\")\n",
    "tuple1 = tuple(list1)\n",
    "print(f\"list: {list1}\")\n",
    "print(f\"touple: {tuple1}\")"
   ]
  },
  {
   "cell_type": "code",
   "execution_count": 9,
   "metadata": {},
   "outputs": [
    {
     "name": "stdout",
     "output_type": "stream",
     "text": [
      "Final list: ['1', '3', '5', '7', '9']\n"
     ]
    }
   ],
   "source": [
    "#6b Write a Python program that accepts a sequence of numbers from the user and generates a list of those numbers\n",
    "\n",
    "list1 = []\n",
    "while True:\n",
    "    add = input(\"Add a number to the list. Type 'exit' to stop: \")\n",
    "    if add.lower() == 'exit':\n",
    "        break\n",
    "    else:\n",
    "        list1.append(add)\n",
    "\n",
    "print(\"Final list:\", list1)"
   ]
  },
  {
   "cell_type": "code",
   "execution_count": 10,
   "metadata": {},
   "outputs": [
    {
     "name": "stdout",
     "output_type": "stream",
     "text": [
      "The file type is txt\n"
     ]
    }
   ],
   "source": [
    "#7 Write a Python program that accepts a filename from the user and prints the extension of the file\n",
    "file_name = input(\"input file name and type (ex: abc.txt)\")\n",
    "file_type = file_name.split(\".\")[-1]\n",
    "print(f\"The file type is {file_type}\")"
   ]
  },
  {
   "cell_type": "code",
   "execution_count": 11,
   "metadata": {},
   "outputs": [
    {
     "name": "stdout",
     "output_type": "stream",
     "text": [
      "The first color is red and the last color is black\n"
     ]
    }
   ],
   "source": [
    "#8 Write a Python program to display the first and last colors from the following list\n",
    "color_list = [\"red\", \"green\", \"white\", \"black\"]\n",
    "print(f\"The first color is {color_list[0]} and the last color is {color_list[-1]}\")"
   ]
  },
  {
   "cell_type": "code",
   "execution_count": 12,
   "metadata": {},
   "outputs": [
    {
     "name": "stdout",
     "output_type": "stream",
     "text": [
      "The examination will start from: 11 / 12 / 2014\n"
     ]
    }
   ],
   "source": [
    "#9 Write a Python program to display the examination schedule. (extract the date from exam_st_date)\n",
    "exam_st_date = (11, 12, 2014)\n",
    "# Goal output: The examination will start from : 11 / 12 / 2014\n",
    "formatted_date = \" / \".join(map(str, exam_st_date))\n",
    "print(f\"The examination will start from: {formatted_date}\")\n"
   ]
  },
  {
   "cell_type": "code",
   "execution_count": 13,
   "metadata": {},
   "outputs": [
    {
     "name": "stdout",
     "output_type": "stream",
     "text": [
      "1 / 2 / 3 / 4 / 5\n"
     ]
    }
   ],
   "source": [
    "#10 Write a Python program that takes a list of numbers from the user and prints them as a Slash-separated string\n",
    "input1 = [1, 2, 3, 4, 5]\n",
    "#Output:\n",
    "#Resulting string: 1, 2, 3, 4, 5\n",
    "\n",
    "formatted_input = \" / \".join(map(str, input1))\n",
    "print(formatted_input)"
   ]
  },
  {
   "cell_type": "code",
   "execution_count": 14,
   "metadata": {},
   "outputs": [
    {
     "name": "stdout",
     "output_type": "stream",
     "text": [
      "The result is: 984\n"
     ]
    }
   ],
   "source": [
    "#11 Write a Python program that accepts an integer (n) and computes the value of n+nn+nnn\n",
    "# Sample value of n is 5\n",
    "# Expected Result : 615\n",
    "\n",
    "n = int(input(\"Input a number: \"))\n",
    "\n",
    "result = n + int(str(n) * 2) + int(str(n) * 3)\n",
    "\n",
    "print(f\"The result is: {result}\")"
   ]
  },
  {
   "cell_type": "code",
   "execution_count": 15,
   "metadata": {},
   "outputs": [
    {
     "name": "stdout",
     "output_type": "stream",
     "text": [
      "buzz\n"
     ]
    }
   ],
   "source": [
    "#12a FizzBuzz\n",
    "\n",
    "answer = \"\"\n",
    "input1 = int(input(\"pick a number\"))\n",
    "if input1 % 3 == 0 and input1 % 5 == 0:\n",
    "    answer = \"fizzbuzz\"\n",
    "elif input1 % 5 == 0:\n",
    "    answer = \"buzz\"\n",
    "elif input1 % 3 == 0:\n",
    "    answer = \"fizz\"\n",
    "else:\n",
    "    answer = input1\n",
    "print(answer)"
   ]
  },
  {
   "cell_type": "code",
   "execution_count": 16,
   "metadata": {},
   "outputs": [
    {
     "name": "stdout",
     "output_type": "stream",
     "text": [
      "[1, 2]\n"
     ]
    }
   ],
   "source": [
    "#12b FizzBuzz with loop\n",
    "\n",
    "answer = []\n",
    "input1 = int(input(\"pick a number\"))\n",
    "for i in range(1, input1+1):\n",
    "    if i % 3 == 0 and i % 5 == 0:\n",
    "        answer.append(\"fizzbuzz\")\n",
    "    elif i % 5 == 0:\n",
    "        answer.append(\"buzz\")\n",
    "    elif i % 3 == 0:\n",
    "        answer.append(\"fizz\")\n",
    "    else:\n",
    "        answer.append(i)\n",
    "print(answer)"
   ]
  },
  {
   "cell_type": "code",
   "execution_count": 17,
   "metadata": {},
   "outputs": [
    {
     "name": "stdout",
     "output_type": "stream",
     "text": [
      "incorrect, try again\n",
      "incorrect, try again\n",
      "incorrect, try again\n",
      "too many tries, locked out\n"
     ]
    }
   ],
   "source": [
    "#13 Password program \n",
    "\n",
    "password = \"abc123\"\n",
    "tries = 0\n",
    "while tries < 3:\n",
    "    senha = input(\"input password\") \n",
    "    if senha == password:\n",
    "        print(\"correct!\")\n",
    "        break\n",
    "    else:\n",
    "        print(\"incorrect, try again\")\n",
    "        tries += 1\n",
    "if senha == password:\n",
    "    print(\"welcome!\")\n",
    "else:\n",
    "    print(\"too many tries, locked out\")"
   ]
  },
  {
   "cell_type": "code",
   "execution_count": 18,
   "metadata": {},
   "outputs": [
    {
     "name": "stdout",
     "output_type": "stream",
     "text": [
      "Numbers divisible by 7: [1505, 1512, 1519, 1526, 1533, 1540, 1547, 1554, 1561, 1568, 1575, 1582, 1589, 1596, 1603, 1610, 1617, 1624, 1631, 1638, 1645, 1652, 1659, 1666, 1673, 1680, 1687, 1694, 1701, 1708, 1715, 1722, 1729, 1736, 1743, 1750, 1757, 1764, 1771, 1778, 1785, 1792, 1799, 1806, 1813, 1820, 1827, 1834, 1841, 1848, 1855, 1862, 1869, 1876, 1883, 1890, 1897, 1904, 1911, 1918, 1925, 1932, 1939, 1946, 1953, 1960, 1967, 1974, 1981, 1988, 1995, 2002, 2009, 2016, 2023, 2030, 2037, 2044, 2051, 2058, 2065, 2072, 2079, 2086, 2093, 2100, 2107, 2114, 2121, 2128, 2135, 2142, 2149, 2156, 2163, 2170, 2177, 2184, 2191, 2198, 2205, 2212, 2219, 2226, 2233, 2240, 2247, 2254, 2261, 2268, 2275, 2282, 2289, 2296, 2303, 2310, 2317, 2324, 2331, 2338, 2345, 2352, 2359, 2366, 2373, 2380, 2387, 2394, 2401, 2408, 2415, 2422, 2429, 2436, 2443, 2450, 2457, 2464, 2471, 2478, 2485, 2492, 2499, 2506, 2513, 2520, 2527, 2534, 2541, 2548, 2555, 2562, 2569, 2576, 2583, 2590, 2597, 2604, 2611, 2618, 2625, 2632, 2639, 2646, 2653, 2660, 2667, 2674, 2681, 2688, 2695]\n",
      "Numbers multiples of 5: [1500, 1510, 1515, 1520, 1525, 1530, 1535, 1545, 1550, 1555, 1560, 1565, 1570, 1580, 1585, 1590, 1595, 1600, 1605, 1615, 1620, 1625, 1630, 1635, 1640, 1650, 1655, 1660, 1665, 1670, 1675, 1685, 1690, 1695, 1700, 1705, 1710, 1720, 1725, 1730, 1735, 1740, 1745, 1755, 1760, 1765, 1770, 1775, 1780, 1790, 1795, 1800, 1805, 1810, 1815, 1825, 1830, 1835, 1840, 1845, 1850, 1860, 1865, 1870, 1875, 1880, 1885, 1895, 1900, 1905, 1910, 1915, 1920, 1930, 1935, 1940, 1945, 1950, 1955, 1965, 1970, 1975, 1980, 1985, 1990, 2000, 2005, 2010, 2015, 2020, 2025, 2035, 2040, 2045, 2050, 2055, 2060, 2070, 2075, 2080, 2085, 2090, 2095, 2105, 2110, 2115, 2120, 2125, 2130, 2140, 2145, 2150, 2155, 2160, 2165, 2175, 2180, 2185, 2190, 2195, 2200, 2210, 2215, 2220, 2225, 2230, 2235, 2245, 2250, 2255, 2260, 2265, 2270, 2280, 2285, 2290, 2295, 2300, 2305, 2315, 2320, 2325, 2330, 2335, 2340, 2350, 2355, 2360, 2365, 2370, 2375, 2385, 2390, 2395, 2400, 2405, 2410, 2420, 2425, 2430, 2435, 2440, 2445, 2455, 2460, 2465, 2470, 2475, 2480, 2490, 2495, 2500, 2505, 2510, 2515, 2525, 2530, 2535, 2540, 2545, 2550, 2560, 2565, 2570, 2575, 2580, 2585, 2595, 2600, 2605, 2610, 2615, 2620, 2630, 2635, 2640, 2645, 2650, 2655, 2665, 2670, 2675, 2680, 2685, 2690, 2700]\n"
     ]
    }
   ],
   "source": [
    "#14 Write a Python program to find those numbers which are divisible by 7 and multiples of 5, between 1500 and 2700 (both included).\n",
    "vid_7 = []\n",
    "vid_5 = []\n",
    "\n",
    "for i in range(1500, 2701):\n",
    "    if i % 7 == 0:\n",
    "        vid_7.append(i)\n",
    "    elif i % 5 == 0:\n",
    "        vid_5.append(i)\n",
    "    else:\n",
    "        continue\n",
    "\n",
    "print(f\"Numbers divisible by 7: {vid_7}\")\n",
    "print(f\"Numbers multiples of 5: {vid_5}\")"
   ]
  },
  {
   "cell_type": "code",
   "execution_count": 19,
   "metadata": {},
   "outputs": [
    {
     "name": "stdout",
     "output_type": "stream",
     "text": [
      "wrong! try again!\n",
      "Well guessed!!\n"
     ]
    }
   ],
   "source": [
    "#15 Write a Python program to guess a number between 1 and 9\n",
    "#Note: User is prompted to enter a guess. If the user guesses wrong then the prompt appears again until the guess is correct, on successful guess, user will get a \"Well guessed!\" message, and the program will exit.\n",
    "correct_number = 3\n",
    "for i in range(0, 9):\n",
    "    guess = int(input(\"pick a number between 1 and 9\"))\n",
    "    if guess == correct_number:\n",
    "        print(\"Well guessed!!\")\n",
    "        break\n",
    "    else:\n",
    "        print(\"wrong! try again!\")\n",
    "        continue"
   ]
  },
  {
   "cell_type": "code",
   "execution_count": 20,
   "metadata": {},
   "outputs": [
    {
     "name": "stdout",
     "output_type": "stream",
     "text": [
      "olleh\n"
     ]
    }
   ],
   "source": [
    "#16 Write a Python program that accepts a word from the user and reverses it\n",
    "word = input(\"write a single word\")[::-1]\n",
    "print(word)"
   ]
  },
  {
   "cell_type": "code",
   "execution_count": 21,
   "metadata": {},
   "outputs": [
    {
     "name": "stdout",
     "output_type": "stream",
     "text": [
      "all odd numbers: [1, 3, 5]\n",
      "all even numbers: [2, 4]\n"
     ]
    }
   ],
   "source": [
    "#17 Write a Python program that calculates and prints the sum of all even numbers from 1 to a given number (inclusive). The user should input the number.\n",
    "number = int(input(\"pick a number\"))\n",
    "odd_numbers = []\n",
    "even_numbers = []\n",
    "for i in range(1, number+1):\n",
    "    if i % 2 == 0:\n",
    "        even_numbers.append(i)\n",
    "    else:\n",
    "        odd_numbers.append(i)\n",
    "print(f\"all odd numbers: {odd_numbers}\")\n",
    "print(f\"all even numbers: {even_numbers}\")"
   ]
  },
  {
   "cell_type": "code",
   "execution_count": 22,
   "metadata": {},
   "outputs": [
    {
     "name": "stdout",
     "output_type": "stream",
     "text": [
      "number of evens: 4\n",
      "number of odds: 5\n"
     ]
    }
   ],
   "source": [
    "#18 Write a Python program to count the number of even and odd numbers in a series of numbers\n",
    "#Sample numbers : numbers = (1, 2, 3, 4, 5, 6, 7, 8, 9) \n",
    "numbers = (1, 2, 3, 4, 5, 6, 7, 8, 9)\n",
    "evens = 0\n",
    "odds = 0\n",
    "for i in numbers:\n",
    "    if i % 2 == 0:\n",
    "        evens += 1\n",
    "    else:\n",
    "        odds += 1\n",
    "print(f\"number of evens: {evens}\")\n",
    "print(f\"number of odds: {odds}\")"
   ]
  },
  {
   "cell_type": "code",
   "execution_count": 23,
   "metadata": {},
   "outputs": [
    {
     "name": "stdout",
     "output_type": "stream",
     "text": [
      "<class 'int'>\n",
      "<class 'float'>\n",
      "<class 'complex'>\n",
      "<class 'bool'>\n",
      "<class 'str'>\n",
      "<class 'tuple'>\n",
      "<class 'list'>\n",
      "<class 'dict'>\n"
     ]
    }
   ],
   "source": [
    "#19 Write a Python program that prints each item and its corresponding type from the following list.\n",
    "# Sample List : \n",
    "datalist = [1452, 11.23, 1+2j, True, 'w3resource', (0, -1), [5, 12], {\"class\":'V', \"section\":'A'}]\n",
    "for i in datalist:\n",
    "    print(type(i))"
   ]
  },
  {
   "cell_type": "code",
   "execution_count": 24,
   "metadata": {},
   "outputs": [
    {
     "name": "stdout",
     "output_type": "stream",
     "text": [
      "1 2 3 5 8 13 21 34 55 89 144 233 377 610 987 1597 2584 4181 6765 10946 \n"
     ]
    }
   ],
   "source": [
    "#20 Write a Python program to get the Fibonacci series between 0 and 50.\n",
    "# Note : The Fibonacci Sequence is the series of numbers :\n",
    "#0, 1, 1, 2, 3, 5, 8, 13, 21, ....\n",
    "#Every next number is found by adding up the two numbers before it.\n",
    "#Expected Output : 1 1 2 3 5 8 13 21 34\n",
    "n = 20\n",
    "num0 = 0\n",
    "num1 = 1\n",
    "next_number = num1\n",
    "count = 1\n",
    "while count <= n:\n",
    "    print(next_number, end=\" \")\n",
    "    count += 1\n",
    "    num0, num1 = num1, next_number\n",
    "    next_number = num0 + num1\n",
    "print()\n"
   ]
  },
  {
   "cell_type": "code",
   "execution_count": 25,
   "metadata": {},
   "outputs": [
    {
     "name": "stdout",
     "output_type": "stream",
     "text": [
      "Please input a password. It must follow the following criteria:\n",
      "At least 1 letter between [a-z]\n",
      "At least 1 letter between [A-Z]\n",
      "At least 1 number between [0-9]\n",
      "At least 1 character from [$#@]\n",
      "Minimum length 6 characters\n",
      "Maximum length 16 characters\n",
      "Password not valid. Please try again.\n"
     ]
    }
   ],
   "source": [
    "print(\"Please input a password. It must follow the following criteria:\")\n",
    "print(\"At least 1 letter between [a-z]\")\n",
    "print(\"At least 1 letter between [A-Z]\")\n",
    "print(\"At least 1 number between [0-9]\")\n",
    "print(\"At least 1 character from [$#@]\")\n",
    "print(\"Minimum length 6 characters\")\n",
    "print(\"Maximum length 16 characters\")\n",
    "\n",
    "password = input()\n",
    "\n",
    "has_lowercase = any(char.islower() for char in password)\n",
    "has_uppercase = any(char.isupper() for char in password)\n",
    "has_digit = any(char.isdigit() for char in password)\n",
    "has_special_char = any(char in [\"$\", \"#\", \"@\"] for char in password)\n",
    "valid_length = 6 <= len(password) <= 16\n",
    "\n",
    "if has_lowercase and has_uppercase and has_digit and has_special_char and valid_length:\n",
    "    print(\"Password is valid.\")\n",
    "else:\n",
    "    print(\"Password not valid. Please try again.\")"
   ]
  },
  {
   "cell_type": "code",
   "execution_count": 26,
   "metadata": {},
   "outputs": [
    {
     "name": "stdout",
     "output_type": "stream",
     "text": [
      "4 x 1 = 4.00\n",
      "4 x 2 = 8.00\n",
      "4 x 3 = 12.00\n",
      "4 x 4 = 16.00\n",
      "4 x 5 = 20.00\n",
      "4 x 6 = 24.00\n",
      "4 x 7 = 28.00\n",
      "4 x 8 = 32.00\n",
      "4 x 9 = 36.00\n",
      "4 x 10 = 40.00\n"
     ]
    }
   ],
   "source": [
    "#22 Write a Python program to create the multiplication table (from 1 to 10) of a number.\n",
    "#Expected Output:\n",
    "#\n",
    "#Input a number: 6                                                       \n",
    "#6 x 1 = 6                                                               \n",
    "#6 x 2 = 12                                                              \n",
    "#6 x 3 = 18                                                              \n",
    "#6 x 4 = 24                                                              \n",
    "#6 x 5 = 30                                                              \n",
    "#6 x 6 = 36                                                              \n",
    "#6 x 7 = 42                                                              \n",
    "#6 x 8 = 48                                                              \n",
    "#6 x 9 = 54                                                              \n",
    "#6 x 10 = 60\n",
    "multiplaction = int(input(\"pick a number from 1 to 10\"))\n",
    "for i in range(1,11):\n",
    "    print(f\"{multiplaction} x {i} = {i * multiplaction:.2f}\")"
   ]
  },
  {
   "cell_type": "code",
   "execution_count": 27,
   "metadata": {},
   "outputs": [
    {
     "data": {
      "text/plain": [
       "['sunday', 'monday', 'tuesday', 'wednesday', 'thursday', 'friday', 'saturday']"
      ]
     },
     "execution_count": 27,
     "metadata": {},
     "output_type": "execute_result"
    }
   ],
   "source": [
    "week = [\"sunday\", \"monday\", \"tuesday\", \"wednesday\", \"thursday\", \"friday\", \"saturday\"]\n",
    "week"
   ]
  },
  {
   "cell_type": "code",
   "execution_count": 28,
   "metadata": {},
   "outputs": [
    {
     "data": {
      "text/plain": [
       "['monday', 'tuesday', 'wednesday', 'thursday', 'friday', 'saturday', 'sunday']"
      ]
     },
     "execution_count": 28,
     "metadata": {},
     "output_type": "execute_result"
    }
   ],
   "source": [
    "# Change sunday to be the last day of the week:\n",
    "\n",
    "# Remove and store element\n",
    "select_element = week.pop(0)\n",
    "\n",
    "# add the removed / selected element to the end of the list\n",
    "week.append(select_element)\n",
    "\n",
    "week"
   ]
  },
  {
   "cell_type": "code",
   "execution_count": 29,
   "metadata": {},
   "outputs": [
    {
     "name": "stdout",
     "output_type": "stream",
     "text": [
      "Week days:\n",
      " ['monday', 'tuesday', 'wednesday', 'thursday', 'friday']\n",
      "Weekend days:\n",
      " ['saturday', 'sunday']\n"
     ]
    }
   ],
   "source": [
    "# Make 2 new lists from the list, one with the days of the week and the other with the weekend\n",
    "\n",
    "weekdays = week[0:5]\n",
    "\n",
    "weekend_days = week[5:]\n",
    "\n",
    "print(\"Week days:\\n\", weekdays)\n",
    "print(\"Weekend days:\\n\", weekend_days)"
   ]
  },
  {
   "cell_type": "code",
   "execution_count": 30,
   "metadata": {},
   "outputs": [
    {
     "name": "stdout",
     "output_type": "stream",
     "text": [
      "['Monday', 'Tuesday', 'Wednesday', 'Thursday', 'Friday', 'Saturday', 'Sunday']\n"
     ]
    }
   ],
   "source": [
    "# Change all elements to capilaize the first letter\n",
    "cap_week = [day.capitalize() for day in week]\n",
    "print(cap_week)"
   ]
  },
  {
   "cell_type": "code",
   "execution_count": 31,
   "metadata": {},
   "outputs": [],
   "source": [
    "def number_of_days(x):\n",
    "    len(x)"
   ]
  },
  {
   "cell_type": "code",
   "execution_count": 33,
   "metadata": {},
   "outputs": [
    {
     "name": "stdout",
     "output_type": "stream",
     "text": [
      "None\n"
     ]
    }
   ],
   "source": [
    "print(number_of_days(week))"
   ]
  },
  {
   "cell_type": "code",
   "execution_count": 35,
   "metadata": {},
   "outputs": [],
   "source": [
    "my_list = [2, 4, 6, 8]"
   ]
  },
  {
   "cell_type": "code",
   "execution_count": 39,
   "metadata": {},
   "outputs": [
    {
     "data": {
      "text/plain": [
       "[2, 4, 6, 8, 6, 3, 5]"
      ]
     },
     "execution_count": 39,
     "metadata": {},
     "output_type": "execute_result"
    }
   ],
   "source": [
    "import random\n",
    "my_number = random.randint(0,10)\n",
    "my_list.append(my_number)\n",
    "my_list"
   ]
  },
  {
   "cell_type": "code",
   "execution_count": 41,
   "metadata": {},
   "outputs": [
    {
     "data": {
      "text/plain": [
       "[2, 3, 4, 5, 6, 6, 8]"
      ]
     },
     "execution_count": 41,
     "metadata": {},
     "output_type": "execute_result"
    }
   ],
   "source": [
    "my_list.sort()\n",
    "my_list"
   ]
  },
  {
   "cell_type": "code",
   "execution_count": 54,
   "metadata": {},
   "outputs": [
    {
     "name": "stdout",
     "output_type": "stream",
     "text": [
      "Number of elements in list: 14 \n",
      "\n",
      "list: [2, 4, 6, 8, 0, 7, 7, 5, 5, 2, 4, 4, 0, 9]\n",
      "list sorted [0, 0, 2, 2, 4, 4, 4, 5, 5, 6, 7, 7, 8, 9]\n"
     ]
    }
   ],
   "source": [
    "my_list = [2, 4, 6, 8]\n",
    "\n",
    "reps = 0\n",
    "max = 10\n",
    "\n",
    "while reps < max:\n",
    "    my_number = random.randint(0,10)\n",
    "    my_list.append(my_number)\n",
    "    reps += 1\n",
    "\n",
    "print(\"Number of elements in list:\", len(my_list), \"\\n\")\n",
    "print(\"list:\", my_list)\n",
    "my_list.sort()\n",
    "print(\"list sorted\", my_list)"
   ]
  },
  {
   "cell_type": "code",
   "execution_count": 59,
   "metadata": {},
   "outputs": [
    {
     "data": {
      "text/plain": [
       "[1, 1, 3, 3, 5, 5, 5, 6, 6, 7, 8, 8, 9, 10]"
      ]
     },
     "execution_count": 59,
     "metadata": {},
     "output_type": "execute_result"
    }
   ],
   "source": [
    "added_numbers = []\n",
    "\n",
    "for i in my_list:\n",
    "    added_numbers.append(i + 1)\n",
    "added_numbers"
   ]
  },
  {
   "cell_type": "code",
   "execution_count": 60,
   "metadata": {},
   "outputs": [
    {
     "data": {
      "text/plain": [
       "[1, 1, 3, 3, 5, 5, 5, 6, 6, 7, 8, 8, 9, 10]"
      ]
     },
     "execution_count": 60,
     "metadata": {},
     "output_type": "execute_result"
    }
   ],
   "source": [
    "updated_numbers = [i +1 for i in my_list]\n",
    "updated_numbers"
   ]
  },
  {
   "cell_type": "code",
   "execution_count": 63,
   "metadata": {},
   "outputs": [
    {
     "name": "stdout",
     "output_type": "stream",
     "text": [
      "4\n"
     ]
    }
   ],
   "source": [
    "names = [\"john\", \"andrew\", \"tessa\", \"mercy\", \"wally\", \"catarina\", \"mosis\"]\n",
    "\n",
    "for i in range(0, len(names)):\n",
    "    if names[i] == \"wally\":\n",
    "        print(i)"
   ]
  },
  {
   "cell_type": "code",
   "execution_count": 65,
   "metadata": {},
   "outputs": [
    {
     "name": "stdout",
     "output_type": "stream",
     "text": [
      "[45, 67, 87, 23, 5, 32, 60]\n",
      "[60, 32, 5, 23, 87, 67, 45]\n"
     ]
    }
   ],
   "source": [
    "arr = [45, 67, 87, 23, 5, 32, 60]\n",
    "arr2 = []\n",
    "for i in range(len(arr)-1, -1, -1):\n",
    "    arr2.append(arr[i])\n",
    "\n",
    "print(arr)\n",
    "print(arr2)"
   ]
  },
  {
   "cell_type": "code",
   "execution_count": 66,
   "metadata": {},
   "outputs": [],
   "source": [
    "mix = [42, True, \"towel\", [2,1], \"hello\", 34.4, {\"name\": \"john\"}]"
   ]
  },
  {
   "cell_type": "code",
   "execution_count": 69,
   "metadata": {},
   "outputs": [
    {
     "name": "stdout",
     "output_type": "stream",
     "text": [
      "<class 'int'>\n",
      "<class 'bool'>\n",
      "<class 'str'>\n",
      "<class 'list'>\n",
      "<class 'str'>\n",
      "<class 'float'>\n",
      "<class 'dict'>\n"
     ]
    }
   ],
   "source": [
    "for i in mix:\n",
    "    print(type(i))"
   ]
  },
  {
   "cell_type": "code",
   "execution_count": 3,
   "metadata": {},
   "outputs": [],
   "source": [
    "def name_age(name, age):\n",
    "    print(\"Name:\", name)\n",
    "    print(\"Age:\", age)"
   ]
  },
  {
   "cell_type": "code",
   "execution_count": 4,
   "metadata": {},
   "outputs": [
    {
     "name": "stdout",
     "output_type": "stream",
     "text": [
      "Name: willem\n",
      "Age: 32\n"
     ]
    }
   ],
   "source": [
    "name_age(\"willem\", 32)"
   ]
  },
  {
   "cell_type": "code",
   "execution_count": 8,
   "metadata": {},
   "outputs": [],
   "source": [
    "def func1(*any):\n",
    "    for i in any:\n",
    "        print(i)"
   ]
  },
  {
   "cell_type": "code",
   "execution_count": 9,
   "metadata": {},
   "outputs": [
    {
     "name": "stdout",
     "output_type": "stream",
     "text": [
      "1\n",
      "2\n",
      "3\n",
      "4\n",
      "5\n",
      "6\n"
     ]
    }
   ],
   "source": [
    "func1(1,2,3,4,5,6)"
   ]
  },
  {
   "cell_type": "code",
   "execution_count": 16,
   "metadata": {},
   "outputs": [],
   "source": [
    "def calculation(a, b):\n",
    "    addition = a + b\n",
    "    if a > b:\n",
    "        subtraction = a - b\n",
    "    else:\n",
    "        subtraction = b - a\n",
    "    return addition, subtraction"
   ]
  },
  {
   "cell_type": "code",
   "execution_count": 18,
   "metadata": {},
   "outputs": [
    {
     "name": "stdout",
     "output_type": "stream",
     "text": [
      "(50, 30)\n"
     ]
    }
   ],
   "source": [
    "res = calculation(40, 10)\n",
    "print(res)"
   ]
  },
  {
   "cell_type": "code",
   "execution_count": 22,
   "metadata": {},
   "outputs": [],
   "source": [
    "def new_employee(name, salary=9000):\n",
    "    return name, salary"
   ]
  },
  {
   "cell_type": "code",
   "execution_count": 23,
   "metadata": {},
   "outputs": [
    {
     "name": "stdout",
     "output_type": "stream",
     "text": [
      "('ben', 1200)\n",
      "('jessica', 9000)\n"
     ]
    }
   ],
   "source": [
    "res = new_employee(\"ben\", 1200)\n",
    "res1 = new_employee(\"jessica\")\n",
    "\n",
    "print(res)\n",
    "print(res1)"
   ]
  },
  {
   "cell_type": "code",
   "execution_count": 30,
   "metadata": {},
   "outputs": [],
   "source": [
    "def add_5(a, b):\n",
    "    def add(a, b):\n",
    "        res = a + b\n",
    "        return res\n",
    "    final_res = add(a, b) + 5\n",
    "    return final_res"
   ]
  },
  {
   "cell_type": "code",
   "execution_count": 31,
   "metadata": {},
   "outputs": [
    {
     "data": {
      "text/plain": [
       "20"
      ]
     },
     "execution_count": 31,
     "metadata": {},
     "output_type": "execute_result"
    }
   ],
   "source": [
    "add_5(5, 10)"
   ]
  },
  {
   "cell_type": "code",
   "execution_count": 35,
   "metadata": {},
   "outputs": [],
   "source": [
    "def rec_sum(number):\n",
    "    if number == 0:\n",
    "        return 0\n",
    "    else:\n",
    "        return number + rec_sum(number - 1)"
   ]
  },
  {
   "cell_type": "code",
   "execution_count": 36,
   "metadata": {},
   "outputs": [
    {
     "name": "stdout",
     "output_type": "stream",
     "text": [
      "55\n"
     ]
    }
   ],
   "source": [
    "res = rec_sum(10)\n",
    "print(res)"
   ]
  },
  {
   "cell_type": "code",
   "execution_count": 37,
   "metadata": {},
   "outputs": [],
   "source": [
    "x = [4, 6, 8, 24, 12, 2]"
   ]
  },
  {
   "cell_type": "code",
   "execution_count": 38,
   "metadata": {},
   "outputs": [
    {
     "data": {
      "text/plain": [
       "24"
      ]
     },
     "execution_count": 38,
     "metadata": {},
     "output_type": "execute_result"
    }
   ],
   "source": [
    "max(x)"
   ]
  },
  {
   "cell_type": "code",
   "execution_count": 42,
   "metadata": {},
   "outputs": [
    {
     "name": "stdout",
     "output_type": "stream",
     "text": [
      "1\n",
      "2\n",
      "3\n",
      "4\n",
      "5\n",
      "6\n",
      "7\n",
      "8\n",
      "9\n",
      "10\n"
     ]
    }
   ],
   "source": [
    "i = 1\n",
    "while i <= 10:\n",
    "    print(i)\n",
    "    i += 1"
   ]
  },
  {
   "cell_type": "code",
   "execution_count": 44,
   "metadata": {},
   "outputs": [
    {
     "name": "stdout",
     "output_type": "stream",
     "text": [
      "55\n"
     ]
    }
   ],
   "source": [
    "s = 0\n",
    "n = int(input())\n",
    "for i in range(1, n+1, 1):\n",
    "    s += i\n",
    "print(s)"
   ]
  },
  {
   "cell_type": "code",
   "execution_count": 46,
   "metadata": {},
   "outputs": [
    {
     "name": "stdout",
     "output_type": "stream",
     "text": [
      "2\n",
      "4\n",
      "6\n",
      "8\n",
      "10\n",
      "12\n",
      "14\n",
      "16\n",
      "18\n",
      "20\n"
     ]
    }
   ],
   "source": [
    "multiplier = 1\n",
    "number = int(input())\n",
    "for i in range(1, 11):\n",
    "    res = number * multiplier\n",
    "    multiplier += 1\n",
    "    print(res)"
   ]
  },
  {
   "cell_type": "code",
   "execution_count": 49,
   "metadata": {},
   "outputs": [
    {
     "name": "stdout",
     "output_type": "stream",
     "text": [
      "2\n",
      "4\n",
      "6\n",
      "8\n",
      "10\n",
      "12\n",
      "14\n",
      "16\n",
      "18\n",
      "20\n"
     ]
    }
   ],
   "source": [
    "number = int(input())\n",
    "for i in range(1, 11, 1):\n",
    "    res = number * i\n",
    "    print(res)"
   ]
  },
  {
   "cell_type": "code",
   "execution_count": 50,
   "metadata": {},
   "outputs": [],
   "source": [
    "numbers = [12, 75, 150, 180, 145, 525, 50]"
   ]
  },
  {
   "cell_type": "code",
   "execution_count": 58,
   "metadata": {},
   "outputs": [
    {
     "name": "stdout",
     "output_type": "stream",
     "text": [
      "75\n",
      "150\n",
      "145\n"
     ]
    }
   ],
   "source": [
    "for i in numbers:\n",
    "    if i > 500:\n",
    "        break\n",
    "    elif i > 150:\n",
    "        continue\n",
    "    elif i % 5 != 0:\n",
    "        continue\n",
    "    print(i)"
   ]
  },
  {
   "cell_type": "code",
   "execution_count": 59,
   "metadata": {},
   "outputs": [],
   "source": [
    "list1 = [10, 20, 30, 40, 50]"
   ]
  },
  {
   "cell_type": "code",
   "execution_count": 63,
   "metadata": {},
   "outputs": [
    {
     "name": "stdout",
     "output_type": "stream",
     "text": [
      "50\n",
      "40\n",
      "30\n",
      "20\n",
      "10\n"
     ]
    }
   ],
   "source": [
    "rev_list = reversed(list1)\n",
    "for i in rev_list:\n",
    "    print(i)"
   ]
  },
  {
   "cell_type": "code",
   "execution_count": 1,
   "metadata": {},
   "outputs": [],
   "source": [
    "keys = ['Ten', 'Twenty', 'Thirty']\n",
    "values = [10, 20, 30]"
   ]
  },
  {
   "cell_type": "code",
   "execution_count": 2,
   "metadata": {},
   "outputs": [
    {
     "name": "stdout",
     "output_type": "stream",
     "text": [
      "{'Ten': 10, 'Twenty': 20, 'Thirty': 30}\n"
     ]
    }
   ],
   "source": [
    "res_dict = dict(zip(keys, values))\n",
    "print(res_dict)"
   ]
  },
  {
   "cell_type": "code",
   "execution_count": 3,
   "metadata": {},
   "outputs": [],
   "source": [
    "dict1 = {'Ten': 10, 'Twenty': 20, 'Thirty': 30}\n",
    "dict2 = {'Thirty': 30, 'Fourty': 40, 'Fifty': 50}"
   ]
  },
  {
   "cell_type": "code",
   "execution_count": 6,
   "metadata": {},
   "outputs": [
    {
     "name": "stdout",
     "output_type": "stream",
     "text": [
      "{'Ten': 10, 'Twenty': 20, 'Thirty': 30, 'Fourty': 40, 'Fifty': 50}\n"
     ]
    }
   ],
   "source": [
    "dict3 = {**dict1, **dict2}\n",
    "print(dict3)"
   ]
  },
  {
   "cell_type": "code",
   "execution_count": 7,
   "metadata": {},
   "outputs": [],
   "source": [
    "l1 = [3, 6, 9, 12, 15, 18, 21]\n",
    "l2 = [4, 8, 12, 16, 20, 24, 28]"
   ]
  },
  {
   "cell_type": "code",
   "execution_count": 11,
   "metadata": {},
   "outputs": [
    {
     "name": "stdout",
     "output_type": "stream",
     "text": [
      "[6, 12, 18]\n",
      "[4, 12, 20, 28]\n",
      "[4, 6, 12, 12, 18, 20, 28]\n"
     ]
    }
   ],
   "source": [
    "res = list()\n",
    "list1 = l1[1::2]\n",
    "print(list1)\n",
    "list2 = l2[0::2]\n",
    "print(list2)\n",
    "res.extend(list1)\n",
    "res.extend(list2)\n",
    "res.sort()\n",
    "print(res)"
   ]
  },
  {
   "cell_type": "code",
   "execution_count": null,
   "metadata": {},
   "outputs": [],
   "source": []
  }
 ],
 "metadata": {
  "kernelspec": {
   "display_name": "base",
   "language": "python",
   "name": "python3"
  },
  "language_info": {
   "codemirror_mode": {
    "name": "ipython",
    "version": 3
   },
   "file_extension": ".py",
   "mimetype": "text/x-python",
   "name": "python",
   "nbconvert_exporter": "python",
   "pygments_lexer": "ipython3",
   "version": "3.12.3"
  }
 },
 "nbformat": 4,
 "nbformat_minor": 2
}
