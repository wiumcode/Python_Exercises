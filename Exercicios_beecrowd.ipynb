{
 "cells": [
  {
   "cell_type": "code",
   "execution_count": 1,
   "id": "7b76107e-9b3c-4faf-bbb0-f4d87e100ddd",
   "metadata": {},
   "outputs": [
    {
     "name": "stdout",
     "output_type": "stream",
     "text": [
      "PROD: 12\n"
     ]
    }
   ],
   "source": [
    "#exercicio 1004\n",
    "x = int(input(\"diz um numero\"))\n",
    "y = int(input(\"diz outro numero\"))\n",
    "PROD = x * y\n",
    "print(\"PROD:\", PROD)"
   ]
  },
  {
   "cell_type": "code",
   "execution_count": 2,
   "id": "40883b55-f183-431c-b344-c9ce91738565",
   "metadata": {},
   "outputs": [
    {
     "name": "stdout",
     "output_type": "stream",
     "text": [
      "MEDIA = 6.63636\n"
     ]
    }
   ],
   "source": [
    "#exercicio 1005\n",
    "teste1 = float(input())\n",
    "teste2 = float(input())\n",
    "media = (((teste1 * 3.5) + (teste2 * 7.5)) / 11)\n",
    "print(\"MEDIA = {:.5f}\".format(media))"
   ]
  },
  {
   "cell_type": "code",
   "execution_count": 3,
   "id": "794540fb-fa7c-4608-bc8e-e15cdc1c168d",
   "metadata": {},
   "outputs": [
    {
     "name": "stdout",
     "output_type": "stream",
     "text": [
      "MEDIA = 7.3\n"
     ]
    }
   ],
   "source": [
    "#exercicio 1006\n",
    "teste1 = float(input())\n",
    "teste2 = float(input())\n",
    "teste3 = float(input())\n",
    "media = (teste1 / 10 * 2) + (teste2 / 10 * 3) + (teste3 / 10 * 5)\n",
    "print(\"MEDIA = {:.1f}\".format(media))"
   ]
  },
  {
   "cell_type": "code",
   "execution_count": 4,
   "id": "69894fec-658f-491d-a9ad-8640af0a5709",
   "metadata": {},
   "outputs": [
    {
     "name": "stdout",
     "output_type": "stream",
     "text": [
      "DIFERENCA = -10\n"
     ]
    }
   ],
   "source": [
    "#exercicio 1007\n",
    "A = int(input())\n",
    "B = int(input())\n",
    "C = int(input())\n",
    "D = int(input())\n",
    "DIFERENCA = (A * B - C * D)  \n",
    "print(\"DIFERENCA =\", DIFERENCA)"
   ]
  },
  {
   "cell_type": "code",
   "execution_count": 5,
   "id": "5d0b528d-86fb-4bf4-b3b6-b4ed6041c7cc",
   "metadata": {},
   "outputs": [
    {
     "name": "stdout",
     "output_type": "stream",
     "text": [
      "NUMBER = 44\n",
      "SALARY = U$ 330.00\n"
     ]
    }
   ],
   "source": [
    "#exercicio 1008\n",
    "employee_number = int(input())\n",
    "working_hours = int(input())\n",
    "pay_per_hour = float(input())\n",
    "monthly_salary = working_hours * pay_per_hour\n",
    "print(\"NUMBER =\", employee_number)\n",
    "print(\"SALARY = U$ {:.2f}\".format(monthly_salary))"
   ]
  },
  {
   "cell_type": "code",
   "execution_count": 6,
   "id": "25d24a5e-f5da-4cec-b6e2-ad845e397fce",
   "metadata": {},
   "outputs": [
    {
     "name": "stdout",
     "output_type": "stream",
     "text": [
      "TOTAL = R$ 1501.50\n"
     ]
    }
   ],
   "source": [
    "#exercicio 1009\n",
    "nome = str(input())\n",
    "salario = float(input())\n",
    "vendas = float(input())\n",
    "salario_mais_bonus = (vendas * 0.15) + salario\n",
    "print(\"TOTAL = R$ {:.2f}\".format(salario_mais_bonus))"
   ]
  },
  {
   "cell_type": "code",
   "execution_count": 7,
   "id": "a96ff21f-d1e4-4b8a-b032-a62d948def86",
   "metadata": {},
   "outputs": [
    {
     "ename": "ValueError",
     "evalue": "not enough values to unpack (expected 3, got 1)",
     "output_type": "error",
     "traceback": [
      "\u001b[1;31m---------------------------------------------------------------------------\u001b[0m",
      "\u001b[1;31mValueError\u001b[0m                                Traceback (most recent call last)",
      "Cell \u001b[1;32mIn[7], line 4\u001b[0m\n\u001b[0;32m      2\u001b[0m produto_1 \u001b[38;5;241m=\u001b[39m \u001b[38;5;28minput\u001b[39m()\u001b[38;5;241m.\u001b[39msplit(\u001b[38;5;124m\"\u001b[39m\u001b[38;5;124m \u001b[39m\u001b[38;5;124m\"\u001b[39m)\n\u001b[0;32m      3\u001b[0m produto_2 \u001b[38;5;241m=\u001b[39m \u001b[38;5;28minput\u001b[39m()\u001b[38;5;241m.\u001b[39msplit(\u001b[38;5;124m\"\u001b[39m\u001b[38;5;124m \u001b[39m\u001b[38;5;124m\"\u001b[39m)\n\u001b[1;32m----> 4\u001b[0m cod1, qtde1, valor1 \u001b[38;5;241m=\u001b[39m produto_1\n\u001b[0;32m      5\u001b[0m cod2, qtde2, valor2 \u001b[38;5;241m=\u001b[39m produto_2\n\u001b[0;32m      6\u001b[0m total \u001b[38;5;241m=\u001b[39m (\u001b[38;5;28mint\u001b[39m(qtde1) \u001b[38;5;241m*\u001b[39m \u001b[38;5;28mfloat\u001b[39m(valor1)) \u001b[38;5;241m+\u001b[39m (\u001b[38;5;28mint\u001b[39m(qtde2) \u001b[38;5;241m*\u001b[39m \u001b[38;5;28mfloat\u001b[39m(valor2))\n",
      "\u001b[1;31mValueError\u001b[0m: not enough values to unpack (expected 3, got 1)"
     ]
    }
   ],
   "source": [
    "#exercicio 1010\n",
    "produto_1 = input().split(\" \")\n",
    "produto_2 = input().split(\" \")\n",
    "cod1, qtde1, valor1 = produto_1\n",
    "cod2, qtde2, valor2 = produto_2\n",
    "total = (int(qtde1) * float(valor1)) + (int(qtde2) * float(valor2))\n",
    "print(\"VALOR A PAGAR: R$ {:.2f}\".format(total))\n"
   ]
  },
  {
   "cell_type": "code",
   "execution_count": null,
   "id": "f0155e3e-6c5e-4f5c-a554-8dbedb110004",
   "metadata": {},
   "outputs": [],
   "source": [
    "linha1 = input().split(\" \")\n",
    "linha2 = input().split(\" \")\n",
    "cod1, qtde1, valor1 = linha1\n",
    "cod2, qtde2, valor2 = linha2\n",
    "total = (int(qtde1) * float(valor1)) + (int(qtde2) * float(valor2))\n",
    "print(f'VALOR A PAGAR: R$ {total:.2f}')"
   ]
  },
  {
   "cell_type": "code",
   "execution_count": null,
   "id": "f9c2caf1-4946-4736-815e-c9d7417fbf96",
   "metadata": {},
   "outputs": [
    {
     "name": "stdout",
     "output_type": "stream",
     "text": [
      "VOLUME = 33510.293\n"
     ]
    }
   ],
   "source": [
    "#exercicio 1011\n",
    "raio = float(input())\n",
    "pi = 3.14159\n",
    "volume_esfera = ((4 / 3) * pi * raio**3)\n",
    "\n",
    "print(\"VOLUME = {:.3f}\".format(volume_esfera))"
   ]
  },
  {
   "cell_type": "code",
   "execution_count": null,
   "id": "2424827e-d19d-448a-92ba-2ff537f8f429",
   "metadata": {},
   "outputs": [],
   "source": [
    "#exercicio 1012\n",
    "a,b,c = list(map(float,input().split()))\n",
    "triangulo = 0.5 * a * c\n",
    "circulo = 3.14159 * c * c\n",
    "trapezio = (a + b) / 2.0 * c\n",
    "quadrado = b * b\n",
    "rectangulo = a * b\n",
    "print(\"TRIANGULO: %.3f\"%triangulo)\n",
    "print(\"CIRCULO: %.3f\"%circulo)\n",
    "print(\"TRAPEZIO: %.3f\"%trapezio)\n",
    "print(\"QUADRADO: %.3f\"%quadrado)\n",
    "print(\"RETANGULO: %.3f\"%rectangulo)"
   ]
  },
  {
   "cell_type": "code",
   "execution_count": null,
   "id": "e97933f8-3d83-43d9-a6f4-ccf2a85fe096",
   "metadata": {},
   "outputs": [],
   "source": [
    "#exercicio 1013\n",
    "lista_de_numeros = []\n",
    "\n",
    "quantidade_de_vezes = 0\n",
    "\n",
    "for i in lista_de_numeros:\n",
    "    novo_numero = int(input(\"indique um numero\"))\n",
    "    lista_de_numeros.append(novo_numero)\n"
   ]
  },
  {
   "cell_type": "code",
   "execution_count": null,
   "id": "dfc7a65d-105b-4108-9c1e-e85c27d76b93",
   "metadata": {},
   "outputs": [
    {
     "name": "stdout",
     "output_type": "stream",
     "text": [
      "4.000 km/l\n"
     ]
    }
   ],
   "source": [
    "#exercicio 1014\n",
    "distancia = int(input())\n",
    "combustivel_gasto = float(input())\n",
    "consumo_medio = distancia / combustivel_gasto\n",
    "print(\"{:.3f} km/l\".format(consumo_medio))"
   ]
  },
  {
   "cell_type": "code",
   "execution_count": null,
   "id": "57509168-ac64-496e-a36c-78ca6a5b3fbe",
   "metadata": {},
   "outputs": [],
   "source": [
    "#exercicio 1016\n",
    "velocidade_carro_x = 60\n",
    "velocidade_carro_y = 90\n",
    "distancia_carro_y = int(input())\n",
    "tempo = distancia_carro_y * 2\n",
    "print(tempo, \"minutos\")"
   ]
  },
  {
   "cell_type": "code",
   "execution_count": null,
   "id": "78fd91e5-ca10-4851-97a7-019714fc1dce",
   "metadata": {},
   "outputs": [],
   "source": [
    "#exercicio 1016\n",
    "#12km/l\n",
    "tempo_viagem = int(input())\n",
    "velocidade_media = int(input())\n",
    "litros_necessarias = (tempo_viagem * velocidade_media) / 12\n",
    "print(\"{:.3f}\".format(litros_necessarias))"
   ]
  },
  {
   "cell_type": "code",
   "execution_count": null,
   "id": "0080e670-f06e-48c3-aa65-5d9b16a11024",
   "metadata": {},
   "outputs": [],
   "source": [
    "#exercicio 1019\n",
    "segundos = int(input())\n",
    "\n",
    "minutos = int(segundos/60);\n",
    "segundos -= minutos*60;\n",
    "horas = int(minutos/60);\n",
    "minutos -= horas*60;\n",
    "\n",
    "print(\"{}:{}:{}\".format(horas, minutos, segundos))"
   ]
  },
  {
   "cell_type": "code",
   "execution_count": null,
   "id": "028937f5-26cb-4f7a-ba62-6a9325870f77",
   "metadata": {},
   "outputs": [],
   "source": [
    "#exercicio 1020\n",
    "dias = int(input())\n",
    "\n",
    "anos = int(dias/365)\n",
    "dias -= anos*365\n",
    "messes = int(dias/30)\n",
    "dias -= messes*30\n",
    "\n",
    "print(\"{} ano(s)\\n{} mes(es)\\n{} dia(s)\".format(anos, messes, dias))"
   ]
  },
  {
   "cell_type": "code",
   "execution_count": null,
   "id": "dbf1ef31-2374-4b84-9f3e-3d1c661de90f",
   "metadata": {},
   "outputs": [],
   "source": [
    "#exercicio 1020\n",
    "dinheiro = float(input())\n",
    "N = dinheiro\n",
    "nota_100a = N / 100\n",
    "nota_100b = N % 100\n",
    "c=b/50\n",
    "d=b%50\n",
    "e=d/20\n",
    "f=d%20\n",
    "g=f/10\n",
    "h=f%10\n",
    "i=h/5\n",
    "j=h%5\n",
    "k=j/2\n",
    "l=j%2\n",
    "\n",
    "E = dinheiro * 100\n",
    "Dinheiro2 = (int(E))\n",
    "m = dinheiro2 % 100\n",
    "n=m/50\n",
    "o=m%50\n",
    "p=o/25\n",
    "q=o%25\n",
    "r=q/10\n",
    "s=q%10\n",
    "t=s/5\n",
    "u=s%5\n",
    "print(\"NOTAS:\")\n",
    "print(f\"{int(a)} nota(s) de R$ 100.00\")\n",
    "print(f\"{int(c)} nota(s) de R$ 50.00\")\n",
    "print(f\"{int(e)} nota(s) de R$ 20.00\")\n",
    "print(f\"{int(g)} nota(s) de R$ 10.00\")\n",
    "print(f\"{int(i)} nota(s) de R$ 5.00\")\n",
    "print(f\"{int(k)} nota(s) de R$ 2.00\")\n",
    "print(f\"MOEDAS:\")\n",
    "print(f\"{int(l)} moeda(s) de R$ 1.00\")\n",
    "print(f\"{int(n)} moeda(s) de R$ 0.50\")\n",
    "print(f\"{int(p)} moeda(s) de R$ 0.25\")\n",
    "print(f\"{int(r)} moeda(s) de R$ 0.10\")\n",
    "print(f\"{int(t)} moeda(s) de R$ 0.05\")\n",
    "print(f\"{int(u)} moeda(s) de R$ 0.01\")"
   ]
  },
  {
   "cell_type": "code",
   "execution_count": null,
   "id": "5e485359-6561-4f36-b8be-c761e2e6bff2",
   "metadata": {},
   "outputs": [],
   "source": [
    "#exercicio 1035\n",
    "a, b, c, d = map(int, input().split())\n",
    "\n",
    "if b > c and d > a and c+d > a+b and c > 0 and d > 0 and (a % 2) == 0:\n",
    "    print(\"Valores aceitos\")\n",
    "else:\n",
    "    print(\"Valores nao aceitos\")"
   ]
  },
  {
   "cell_type": "code",
   "execution_count": null,
   "id": "ec1abac0-99bb-4891-82b1-9b502519b358",
   "metadata": {},
   "outputs": [],
   "source": [
    "#exercicio 1037\n",
    "\n",
    "valor = int(input())\n",
    "\n",
    "if 0 < valor < 25:\n",
    "    print(\"Intervalo (0,25)\")\n",
    "elif 25 <= valor < 50:\n",
    "    print(\"Intervalo (25,50)\")\n",
    "elif 50 <= valor < 75:\n",
    "    print(\"Intervalo (50,75)\")\n",
    "elif 75 <= valor <=100:\n",
    "    print(\"Intervalo (75,100)\")\n",
    "else:\n",
    "    print(\"Fora de intervalo\")"
   ]
  },
  {
   "cell_type": "code",
   "execution_count": null,
   "id": "03024252-fb4d-4c55-86b0-24dc0facd48d",
   "metadata": {},
   "outputs": [],
   "source": [
    "#exercicio 1038\n",
    "\n",
    "codigo = int(input(\"indique o codigo do produto que deseja (0 - 5)\"))\n",
    "\n",
    "quantidade = int(input(\"indique a quantidade desejada\"))\n",
    "if codigo == 1:\n",
    "    quantidade * 4 = codigo1\n",
    "    print(\"Total: R$ {:.2f}\".format(codigo1))\n",
    "elif codigo == 2:\n",
    "    quantidade * 4.5 = codigo2\n",
    "    print(\"Total: R$ {:.2f}\".format(codigo2))\n",
    "elif codigo == 3:\n",
    "    quantidade * 5 = codigo3\n",
    "    print(\"Total: R$ {:.2f}\".format(codigo3))\n",
    "elif codigo == 4:\n",
    "    quantidade * 2 = codigo4\n",
    "    print(\"Total: R$ {:.2f}\".format(codigo4))\n",
    "elif codigo == 5:\n",
    "    quantidade * 1.5 = codigo5\n",
    "    print(\"Total: R$ {:.2f}\".format(codigo5))\n",
    "else:\n",
    "    print(\"erro, por favor tenta de novo\")"
   ]
  },
  {
   "cell_type": "code",
   "execution_count": null,
   "id": "1c67edbb-2ec3-4b1e-92e7-c37fe6b235b9",
   "metadata": {},
   "outputs": [],
   "source": [
    "#exercicio 1038\n",
    "X,Y=list(map(int,input().split()))\n",
    "if(X == 1):\n",
    "    price  = (float) (4.00 * Y)\n",
    "elif(X == 2):\n",
    "    price  = (float) (4.50 * Y)\n",
    "elif(X == 3):\n",
    "    price  = (float) (5.00 * Y)\n",
    "elif (X == 4):\n",
    "    price  = (float) (2.00 * Y);\n",
    "elif (X == 5):\n",
    "    price  = (float) (1.50 * Y)\n",
    "else:\n",
    "    print(\"erro, tente de novo\")\n",
    "print(f\"Total: R$ {price:.2f}\")"
   ]
  },
  {
   "cell_type": "code",
   "execution_count": null,
   "id": "ac334eda-bf20-4ca6-b0f4-3eaa4b37e744",
   "metadata": {},
   "outputs": [],
   "source": [
    "#exercicio 1040\n",
    "nota1, nota2, nota3, nota4 = map(float, input().split())\n",
    "nota1_a = nota1 * 2\n",
    "nota2_b = nota2 * 3\n",
    "nota3_c = nota3 * 4\n",
    "nota4_d = nota4 * 1\n",
    "media = (nota1_a + nota2_b + nota3_c + nota4_d) / 10\n",
    "print(\"Media: {:.1f}\".format(media))\n",
    "if media >= 7.0:\n",
    "    print(\"Aluno aprovado.\")\n",
    "elif media < 5.0:\n",
    "    print(\"Aluno reprovado.\")\n",
    "elif 5.0 <= media < 6.9:\n",
    "    print(\"Aluno em exame.\")\n",
    "    exame = float(input())\n",
    "    print(\"Nota do exame:\", exame)\n",
    "    resultado = (exame + media) / 2\n",
    "    if resultado >= 5:\n",
    "        print(\"Aluno aprovado.\\nMedia final:\", resultado)\n",
    "    elif resultado < 5:\n",
    "        print(\"Aluno reprovado.\\nMedia final:\", resultado)"
   ]
  },
  {
   "cell_type": "code",
   "execution_count": null,
   "id": "4e5ddf08-17a5-4f47-832c-5853251b68b5",
   "metadata": {},
   "outputs": [
    {
     "name": "stdout",
     "output_type": "stream",
     "text": [
      " 7 21 -14\n"
     ]
    },
    {
     "name": "stdout",
     "output_type": "stream",
     "text": [
      " -14 \n",
      " 7 \n",
      " 21\n",
      "\n",
      " 7 \n",
      " 21 \n",
      " -14\n"
     ]
    }
   ],
   "source": [
    "#exercicio 1042\n",
    "x, y, z = map(int, input().split())\n",
    "numbers = [x, y, z]\n",
    "numbers.sort()\n",
    "print(numbers[0],\"\\n\",numbers[1],\"\\n\",numbers[2])\n",
    "print(\"\\n\",x,\"\\n\",y,\"\\n\",z)"
   ]
  },
  {
   "cell_type": "code",
   "execution_count": null,
   "id": "31993459-a0f4-4437-ada9-7b94c103e029",
   "metadata": {},
   "outputs": [
    {
     "name": "stdout",
     "output_type": "stream",
     "text": [
      " 7 21 -14\n"
     ]
    },
    {
     "name": "stdout",
     "output_type": "stream",
     "text": [
      "-14\n",
      "7\n",
      "21\n",
      "\n",
      "7\n",
      "21\n",
      "-14\n"
     ]
    }
   ],
   "source": [
    "X,Y,Z = map(int,input().split())\n",
    "list = [X,Y,Z]\n",
    "list.sort()\n",
    "print(f\"{list[0]}\\n{list[1]}\\n{list[2]}\")\n",
    "print(f\"\\n{X}\\n{Y}\\n{Z}\")"
   ]
  },
  {
   "cell_type": "code",
   "execution_count": null,
   "id": "e9e9c596-0e2e-4eb1-8461-a7807addff1e",
   "metadata": {},
   "outputs": [],
   "source": [
    "#exercicio 1044\n",
    "a = int(input())\n",
    "b = int(input())\n",
    "\n",
    "def multiplos(a,b):\n",
    "    i = 1\n",
    "    while i <= b:\n",
    "        print(a*i)\n",
    "        i += 1\n",
    "\n",
    "multiplos(a,b)\n"
   ]
  },
  {
   "cell_type": "code",
   "execution_count": null,
   "id": "90e98a2c-4523-4082-911e-343eb65c71aa",
   "metadata": {},
   "outputs": [],
   "source": [
    "x, y = map(int, input().split())\n",
    "\n",
    "if x % y == 0 or y % x == 0:\n",
    "    print(\"Sao Multiplos\")\n",
    "else:\n",
    "    print(\"Nao sao Multiplos\")"
   ]
  },
  {
   "cell_type": "code",
   "execution_count": null,
   "id": "0f9bf290-ef56-4e21-8f84-c426071a4689",
   "metadata": {},
   "outputs": [],
   "source": [
    "#exercicio 1046\n",
    "x, y = map(int, input().split())\n",
    "if x >= y:\n",
    "    z = (24 - x) + y\n",
    "    print(\"O JOGO DUROU\",z , \"HORA(S)\")\n",
    "if x < y:\n",
    "    z = y - x\n",
    "    print(\"O JOGO DUROU\",z , \"HORA(S)\")"
   ]
  },
  {
   "cell_type": "code",
   "execution_count": null,
   "id": "14b44432-3e27-4a10-afdf-e76a34eb2114",
   "metadata": {},
   "outputs": [],
   "source": [
    "#exercicio 1047\n",
    "\n",
    "hora_inicial, minuto_inicial, hora_final, minuto_final = map(int, input().split())\n",
    "        \n",
    "if hora_inicial < hora_final and hora_inicial == (hora_final - 1):\n",
    "    tempo_horas = 0\n",
    "    if minuto_inicial > minuto_final:\n",
    "        tempo_minutos = 60 - (minuto_inicial - minuto_final)\n",
    "        print(\"O JOGO DUROU\", tempo_horas, \"HORA(S) e\", tempo_minutos, \"MINUTO(S)\")\n",
    "    if minuto_inicial < minuto_final:\n",
    "        tempo_minutos = (minuto_final - minuto_inicial)\n",
    "        print(\"O JOGO DUROU\", tempo_horas, \"HORA(S) e\", tempo_minutos, \"MINUTO(S)\")\n",
    "    if minuto_inicial == minuto_final:\n",
    "        tempo_minutos = 0\n",
    "        print(\"O JOGO DUROU\", tempo_horas, \"HORA(S) e\", tempo_minutos, \"MINUTO(S)\")\n",
    "\n",
    "if hora_inicial < hora_final and not hora_inicial == (hora_final - 1):\n",
    "    tempo_horas = hora_final - hora_inicial\n",
    "    if minuto_inicial > minuto_final:\n",
    "        tempo_minutos = (60 - minuto_final)\n",
    "        print(\"O JOGO DUROU\", tempo_horas, \"HORA(S) e\", tempo_minutos, \"MINUTO(S)\")\n",
    "    if minuto_inicial < minuto_final:\n",
    "        tempo_minutos = (minuto_final - minuto_inicial)\n",
    "        print(\"O JOGO DUROU\", tempo_horas, \"HORA(S) e\", tempo_minutos, \"MINUTO(S)\")\n",
    "    if minuto_inicial == minuto_final:\n",
    "        tempo_minutos = 0\n",
    "        print(\"O JOGO DUROU\", tempo_horas, \"HORA(S) e\", tempo_minutos, \"MINUTO(S)\")\n",
    "\n",
    "if hora_inicial > hora_final:\n",
    "    tempo_horas = (24 - hora_inicial) + hora_final\n",
    "    if minuto_inicial > minuto_final:\n",
    "        tempo_minutos = (60 - minuto_final)\n",
    "        print(\"O JOGO DUROU\", tempo_horas, \"HORA(S) e\", tempo_minutos, \"MINUTO(S)\")\n",
    "    if minuto_inicial < minuto_final:\n",
    "        tempo_minutos = (minuto_final - minuto_inicial)\n",
    "        print(\"O JOGO DUROU\", tempo_horas, \"HORA(S) e\", tempo_minutos, \"MINUTO(S)\")\n",
    "    if minuto_inicial == minuto_final:\n",
    "        tempo_minutos = 0\n",
    "        print(\"O JOGO DUROU\", tempo_horas, \"HORA(S) e\", tempo_minutos, \"MINUTO(S)\")\n",
    "        \n",
    "if hora_inicial == hora_final:\n",
    "    tempo_horas = 24\n",
    "    if minuto_inicial > minuto_final:\n",
    "        tempo_minutos = (60 - minuto_final)\n",
    "        print(\"O JOGO DUROU\", tempo_horas, \"HORA(S) e\", tempo_minutos, \"MINUTO(S)\")\n",
    "    if minuto_inicial < minuto_final:\n",
    "        tempo_minutos = (minuto_final - minuto_inicial)\n",
    "        print(\"O JOGO DUROU\", tempo_horas, \"HORA(S) e\", tempo_minutos, \"MINUTO(S)\")\n",
    "    if minuto_inicial == minuto_final:\n",
    "        tempo_minutos = 0\n",
    "        print(\"O JOGO DUROU\", tempo_horas, \"HORA(S) e\", tempo_minutos, \"MINUTO(S)\")"
   ]
  },
  {
   "cell_type": "code",
   "execution_count": null,
   "id": "a5db2629-15ea-4b47-8d10-f98418d61bfd",
   "metadata": {},
   "outputs": [],
   "source": [
    "a,c,b,d=list(map(int,input().split()))\n",
    "\n",
    "dif=((b*60)+d)-((a*60)+c)\n",
    "if(dif<=0):\n",
    "    dif+=24*60\n",
    "    \n",
    "time=dif//60\n",
    "minute=dif%60\n",
    "print(f\"O JOGO DUROU {time} HORA(S) E {minute} MINUTO(S)\")"
   ]
  },
  {
   "cell_type": "code",
   "execution_count": null,
   "id": "24c3fa8e-15d6-4e28-982b-c6e638213c59",
   "metadata": {},
   "outputs": [],
   "source": [
    "#exercicio 1048\n",
    "\n",
    "salario = float(input())\n",
    "if salario <= 400.00:\n",
    "    novo_salario = salario * 1.15\n",
    "    reajuste = (novo_salario - salario)\n",
    "    percentual = 15\n",
    "elif  400 < salario <= 800:\n",
    "    novo_salario = salario * 1.12\n",
    "    reajuste = (novo_salario - salario)\n",
    "    percentual = 12\n",
    "elif 800 < salario <= 1200:\n",
    "    novo_salario = salario * 1.1\n",
    "    reajuste = (novo_salario - salario)\n",
    "    percentual = 10\n",
    "elif 1200 < salario <= 2000:\n",
    "    novo_salario = salario * 1.07\n",
    "    reajuste = (novo_salario - salario)\n",
    "    percentual = 7\n",
    "elif salario > 2000:\n",
    "    novo_salario = salario * 1.04\n",
    "    reajuste = (novo_salario - salario)\n",
    "    percentual = 4\n",
    "print(\"Novo salario: %.2f\" % novo_salario)\n",
    "print(\"Reajuste ganho: %.2f\" % reajuste)\n",
    "print(\"Em percentual:\", percentual, \"%\")"
   ]
  },
  {
   "cell_type": "code",
   "execution_count": null,
   "id": "1f2d2fc7-3f37-4810-9bf5-6e98e5e2f705",
   "metadata": {},
   "outputs": [],
   "source": [
    "#exercicio 1051\n",
    "salario = float(input())\n",
    "\n",
    "if 0 < salario <= 2000.00:\n",
    "    print(\"Insento\")\n",
    "if 2000.01 < salario <= 3000.00:\n",
    "    imposto = (salario - 2000.0) * 0.08\n",
    "    print(\"R$ {:.2f}\".format(imposto))\n",
    "if 3000.01 < salario <= 4500.00:\n",
    "    imposto = (salario - 3000.0) * 0.18 + (1000.0 * 0.08)\n",
    "    print(\"R$ {:.2f}\".format(imposto))\n",
    "if salario > 4500.00:\n",
    "    imposto = (salario - 4500.0) * 0.28 + (1500.0 * 0.18) + (1000.0 * 0.08)\n",
    "    print(\"R$ {:.2f}\".format(imposto))"
   ]
  },
  {
   "cell_type": "code",
   "execution_count": null,
   "id": "61001690-a7b2-44ff-91a8-66805d10a36e",
   "metadata": {},
   "outputs": [],
   "source": [
    "#exercicio 1052\n",
    "numero_do_mes = int(input(\"indique um numero inteiro de 1 a 12\"))\n",
    "if numero_do_mes == 1:\n",
    "    print(\"Janeiro\")\n",
    "elif numero_do_mes == 2:\n",
    "    print(\"Fevereiro\")\n",
    "elif numero_do_mes == 3:\n",
    "    print(\"Março\")\n",
    "elif numero_do_mes == 4:\n",
    "    print(\"Abril\")\n",
    "elif numero_do_mes == 5:\n",
    "    print(\"Maio\")\n",
    "elif numero_do_mes == 6:\n",
    "    print(\"Junho\")\n",
    "elif numero_do_mes == 7:\n",
    "    print(\"Julho\")\n",
    "elif numero_do_mes == 8:\n",
    "    print(\"Agosto\")\n",
    "elif numero_do_mes == 9:\n",
    "    print(\"Setembro\")\n",
    "elif numero_do_mes == 10:\n",
    "    print(\"Outubro\")\n",
    "elif numero_do_mes == 11:\n",
    "    print(\"Novembro\")\n",
    "elif numero_do_mes == 12:\n",
    "    print(\"Dezembro\")\n",
    "else:\n",
    "    pass"
   ]
  },
  {
   "cell_type": "code",
   "execution_count": null,
   "id": "f0766406-1f77-4832-9df4-ca8f42fd3c29",
   "metadata": {},
   "outputs": [],
   "source": [
    "numero_do_mes = int(input())\n",
    "if numero_do_mes == 1:\n",
    "    print(\"January\")\n",
    "elif numero_do_mes == 2:\n",
    "    print(\"February\")\n",
    "elif numero_do_mes == 3:\n",
    "    print(\"March\")\n",
    "elif numero_do_mes == 4:\n",
    "    print(\"Abril\")\n",
    "elif numero_do_mes == 5:\n",
    "    print(\"May\")\n",
    "elif numero_do_mes == 6:\n",
    "    print(\"June\")\n",
    "elif numero_do_mes == 7:\n",
    "    print(\"July\")\n",
    "elif numero_do_mes == 8:\n",
    "    print(\"August\")\n",
    "elif numero_do_mes == 9:\n",
    "    print(\"Setember\")\n",
    "elif numero_do_mes == 10:\n",
    "    print(\"October\")\n",
    "elif numero_do_mes == 11:\n",
    "    print(\"November\")\n",
    "elif numero_do_mes == 12:\n",
    "    print(\"December\")\n",
    "else:\n",
    "    pass"
   ]
  },
  {
   "cell_type": "code",
   "execution_count": null,
   "id": "0eb0266c-6beb-41a9-a9db-7e7737eaa9f2",
   "metadata": {},
   "outputs": [],
   "source": [
    "#exercicio 1059\n",
    "numeros1 = 0\n",
    "for i in range(6):\n",
    "    numeros2 = float(input())\n",
    "    if numeros2 > 0:\n",
    "        numeros1 += 1\n",
    "print(numeros1, \"valores positivos\")"
   ]
  },
  {
   "cell_type": "code",
   "execution_count": null,
   "id": "1ba9d463-74c1-4561-890f-187efdc5d192",
   "metadata": {},
   "outputs": [],
   "source": [
    "#exercicio 1060\n",
    "numeros = 0\n",
    "sumatorio = 0\n",
    "for i in range(1,7):\n",
    "    n = float(input())\n",
    "    if n > 0:\n",
    "        sumatorio = sumatorio + n\n",
    "        numeros = numeros + 1\n",
    "media = sumatorio / numeros\n",
    "print(numeros, \"valores positivos\")\n",
    "print(\"{0:.1f}\".format(media))\n"
   ]
  },
  {
   "cell_type": "code",
   "execution_count": null,
   "id": "9edc4180-1eda-4863-9db4-c4fe58ad669a",
   "metadata": {},
   "outputs": [],
   "source": [
    "#exercicio 1065\n",
    "numeros = 0\n",
    "numeros_pares = 0\n",
    "for i in range(5):\n",
    "    numeros = int(input())\n",
    "    if numeros % 2 == 0:\n",
    "        numeros_pares += 1\n",
    "print(numeros_pares, \"valores pares\")"
   ]
  },
  {
   "cell_type": "code",
   "execution_count": null,
   "id": "2aad2147-f9b7-435e-8a5b-f01621c60e51",
   "metadata": {},
   "outputs": [],
   "source": [
    "#exercicio 1066\n",
    "numeros = 0\n",
    "numeros_pares = 0\n",
    "numeros_impares = 0\n",
    "numeros_positivos = 0\n",
    "numeros_negativos = 0\n",
    "for i in range(5):\n",
    "    numeros = int(input())\n",
    "    if numeros % 2 == 0:\n",
    "        numeros_pares += 1\n",
    "    if numeros % 2 != 0:\n",
    "        numeros_impares += 1\n",
    "    if numeros > 0:\n",
    "        numeros_positivos += 1\n",
    "    if numeros < 0:\n",
    "        numeros_negativos += 1\n",
    "print(numeros_pares, \"valor(es) par(es)\")\n",
    "print(numeros_impares, \"valor(es) impar(es)\")\n",
    "print(numeros_positivos, \"valor(es) positivo(s)\")\n",
    "print(numeros_negativos, \"valor(es) negativo(s)\")"
   ]
  },
  {
   "cell_type": "code",
   "execution_count": null,
   "id": "4fdd79f7-0f11-4065-af40-3a5d0a561bd1",
   "metadata": {},
   "outputs": [],
   "source": [
    "#exercicio 1067\n",
    "valor = int(input())\n",
    "for i in range(valor+1):\n",
    "    if i % 2 == 0:\n",
    "        pass\n",
    "    else:\n",
    "        print(i)"
   ]
  },
  {
   "cell_type": "code",
   "execution_count": null,
   "id": "a92df50b-4131-401e-8a91-701cbedcaf24",
   "metadata": {},
   "outputs": [
    {
     "name": "stdout",
     "output_type": "stream",
     "text": [
      " 6\n"
     ]
    },
    {
     "name": "stdout",
     "output_type": "stream",
     "text": [
      "7\n",
      "9\n",
      "11\n",
      "13\n",
      "15\n",
      "17\n"
     ]
    }
   ],
   "source": [
    "#exercicio 1070\n",
    "valor = int(input())\n",
    "i = 0\n",
    "while(i<6):\n",
    "    if valor % 2 != 0:\n",
    "        print(valor)\n",
    "        i = i + 1\n",
    "    valor = valor + 1"
   ]
  },
  {
   "cell_type": "code",
   "execution_count": null,
   "id": "e6c50e5b-9817-47bd-b38a-405053d73691",
   "metadata": {},
   "outputs": [
    {
     "name": "stdout",
     "output_type": "stream",
     "text": [
      " 6\n"
     ]
    },
    {
     "name": "stdout",
     "output_type": "stream",
     "text": [
      "12\n",
      "24\n",
      "48\n",
      "96\n",
      "192\n",
      "384\n",
      "768\n",
      "1536\n",
      "Final value: 1536\n",
      "Number of multiplications: 8\n"
     ]
    }
   ],
   "source": [
    "#exercicio 1071\n",
    "valor = int(input())\n",
    "i = 0\n",
    "while valor < 1000:\n",
    "    valor *= 2\n",
    "    i += 1\n",
    "    print(valor)\n",
    "print(\"Final value:\", valor)\n",
    "print(\"Number of multiplications:\", i)"
   ]
  },
  {
   "cell_type": "code",
   "execution_count": null,
   "id": "c03e9860-a5b3-44b0-9031-478d2140c72b",
   "metadata": {},
   "outputs": [
    {
     "name": "stdout",
     "output_type": "stream",
     "text": [
      " 6\n",
      " -5\n"
     ]
    },
    {
     "name": "stdout",
     "output_type": "stream",
     "text": [
      "0\n"
     ]
    }
   ],
   "source": [
    "#exercicio 1071\n",
    "valor_1 = int(input())\n",
    "valor_2 = int(input())\n",
    "numeros_impares = []\n",
    "if valor_1 > valor_2:\n",
    "    valor_maior = valor_1\n",
    "    valor_menor = valor_2\n",
    "else:\n",
    "    valor_maior = valor_2\n",
    "    valor_menor = valor_1\n",
    "\n",
    "for i in range(valor_menor, valor_maior):\n",
    "    if valor_menor % 2 == 0:\n",
    "        valor_menor +=1\n",
    "    else:\n",
    "        numeros_impares.append(i)\n",
    "        valor_menor +=1\n",
    "\n",
    "sum_n_impares = sum(numeros_impares)\n",
    "print(sum_n_impares)"
   ]
  },
  {
   "cell_type": "code",
   "execution_count": null,
   "id": "c2cb058b-59d4-43ae-a222-2a1fc015e06a",
   "metadata": {},
   "outputs": [
    {
     "name": "stdout",
     "output_type": "stream",
     "text": [
      " 6\n",
      " -5\n"
     ]
    },
    {
     "name": "stdout",
     "output_type": "stream",
     "text": [
      "5\n"
     ]
    }
   ],
   "source": [
    "#exercicio 1071\n",
    "X = int(input())\n",
    "Y = int(input())\n",
    "start = min(X,Y)+1\n",
    "end = max(X,Y)\n",
    "if start % 2 == 0:\n",
    "    start += 1\n",
    "\n",
    "sum = 0\n",
    "for i in range(start, end, 2):\n",
    "    sum += i\n",
    "print(sum)"
   ]
  },
  {
   "cell_type": "code",
   "execution_count": null,
   "id": "59c85153-2732-4832-92c8-945bd1610f25",
   "metadata": {},
   "outputs": [
    {
     "name": "stdout",
     "output_type": "stream",
     "text": [
      " 4\n",
      " 14\n",
      " 123\n",
      " 10\n",
      " -25\n"
     ]
    },
    {
     "name": "stdout",
     "output_type": "stream",
     "text": [
      "2 in\n",
      "2 out\n"
     ]
    }
   ],
   "source": [
    "#exercicio 1072\n",
    "repeticoes = int(input())\n",
    "lista_in = []\n",
    "lista_out = []\n",
    "for i in range(repeticoes):\n",
    "    novo_valor = int(input())\n",
    "    if novo_valor >= 10 and novo_valor <= 20:\n",
    "        lista_in.append(novo_valor)\n",
    "    else:\n",
    "        lista_out.append(novo_valor)\n",
    "print(len(lista_in),\"in\")\n",
    "print(len(lista_out),\"out\")"
   ]
  },
  {
   "cell_type": "code",
   "execution_count": null,
   "id": "e24dcfb5-ce1f-48bc-8f42-685f575dd66e",
   "metadata": {},
   "outputs": [],
   "source": [
    "#exercicio 1073\n",
    "N = int(input())\n",
    "for numero in range(1,N+1):\n",
    "    if numero % 2 == 0:\n",
    "        print(\"{}^2 = {}\".format(numero, numero**2))"
   ]
  },
  {
   "cell_type": "code",
   "execution_count": null,
   "id": "23e16075-b5ab-4652-b3ed-78419a1a798b",
   "metadata": {},
   "outputs": [
    {
     "name": "stdout",
     "output_type": "stream",
     "text": [
      " 23\n"
     ]
    }
   ],
   "source": [
    "#exercicio 1079\n",
    "rep = int(input())\n",
    "\n",
    "for i in range(rep):\n",
    "    nota = int(input())\n",
    "     "
   ]
  },
  {
   "cell_type": "code",
   "execution_count": null,
   "id": "1e2d5da2-7e54-44b6-987d-21b50d1ec61d",
   "metadata": {},
   "outputs": [
    {
     "name": "stdout",
     "output_type": "stream",
     "text": [
      " 10\n",
      " 10 c\n",
      " 6 r\n",
      " 15 s\n",
      " 5 c\n",
      " 14 r\n",
      " 9 c\n",
      " 6 r\n",
      " 8 s\n",
      " 5 c\n",
      " 14 r\n"
     ]
    },
    {
     "name": "stdout",
     "output_type": "stream",
     "text": [
      "Total: 92 cobaias\n",
      "Total de coelhos: 29\n",
      "Total de ratos: 40\n",
      "Total de sapos: 23\n",
      "Percentual de colehos: 31.52 %\n",
      "Percentual de ratos: 43.48 %\n",
      "Percentual de sapo: 25.00 %\n"
     ]
    }
   ],
   "source": [
    "##### exercicio 1073\n",
    "testes = int(input())\n",
    "quantidade = 0\n",
    "rato = 0\n",
    "sapo = 0\n",
    "coelho = 0\n",
    "for i in range(testes):\n",
    "    quantia, tipo = map(lambda x: float(x) if x.isdigit() else x.upper(), input().split())\n",
    "    quantidade += quatia\n",
    "    if tipo == \"R\":\n",
    "        rato += quantia\n",
    "    elif tipo == \"S\":\n",
    "        sapo += quantia\n",
    "    elif tipo == \"C\":\n",
    "        coelho += quantia\n",
    "perc_rato = rato / quantidade * 100\n",
    "perc_sapo = sapo / quantidade * 100\n",
    "perc_coelho = coelho / quantidade * 100\n",
    "\n",
    "print(f\"Total: {quantidade:.0f} cobaias\")\n",
    "print(f\"Total de coelhos: {coelho:.0f}\")\n",
    "print(f\"Total de ratos: {rato:.0f}\")\n",
    "print(f\"Total de sapos: {sapo:.0f}\")\n",
    "print(f\"Percentual de colehos: {perc_coelho:.2f} %\")\n",
    "print(f\"Percentual de ratos: {perc_rato:.2f} %\")\n",
    "print(f\"Percentual de sapo: {perc_sapo:.2f} %\")"
   ]
  },
  {
   "cell_type": "code",
   "execution_count": null,
   "id": "829d6df5-0f97-48ff-a12e-3f0d491952ef",
   "metadata": {},
   "outputs": [
    {
     "name": "stdout",
     "output_type": "stream",
     "text": [
      " 3\n",
      " 1 r\n",
      " 2 s\n",
      " 3 c\n"
     ]
    },
    {
     "name": "stdout",
     "output_type": "stream",
     "text": [
      "Total: 6 cobaias\n",
      "Total de coelhos: 3\n",
      "Total de ratos: 1\n",
      "Total de sapos: 2\n",
      "Percentual de coelhos: 50.00 %\n",
      "Percentual de ratos: 16.67 %\n",
      "Percentual de sapos: 33.33 %\n"
     ]
    }
   ],
   "source": [
    "testes = int(input())\n",
    "quantidade = 0\n",
    "rato = 0\n",
    "sapo = 0\n",
    "coelho = 0\n",
    "for i in range(testes):\n",
    "    quantia, tipo = map(str.upper, input().split())\n",
    "    quantia = int(quantia)\n",
    "    if tipo == \"R\":\n",
    "        rato += quantia\n",
    "    elif tipo == \"S\":\n",
    "        sapo += quantia\n",
    "    elif tipo == \"C\":\n",
    "        coelho += quantia\n",
    "    quantidade += quantia\n",
    "perc_rato = rato * 100 / quantidade\n",
    "perc_sapo = sapo * 100 / quantidade\n",
    "perc_coelho = coelho * 100 / quantidade\n",
    "\n",
    "print(\"Total: {} cobaias\".format(quantidade))\n",
    "print(\"Total de coelhos:\", coelho)\n",
    "print(\"Total de ratos:\", rato)\n",
    "print(\"Total de sapos:\", sapo)\n",
    "print(\"Percentual de coelhos: {:.2f} %\".format(perc_coelho))\n",
    "print(\"Percentual de ratos: {:.2f} %\".format(perc_rato))\n",
    "print(\"Percentual de sapos: {:.2f} %\".format(perc_sapo))"
   ]
  },
  {
   "cell_type": "code",
   "execution_count": null,
   "id": "5f5b7514-0643-4544-b4da-336a5d56cbb1",
   "metadata": {},
   "outputs": [
    {
     "name": "stdout",
     "output_type": "stream",
     "text": [
      " 4\n",
      " -5\n"
     ]
    },
    {
     "name": "stdout",
     "output_type": "stream",
     "text": [
      "ODD NEGATIVE\n"
     ]
    },
    {
     "name": "stdout",
     "output_type": "stream",
     "text": [
      " 0\n"
     ]
    },
    {
     "name": "stdout",
     "output_type": "stream",
     "text": [
      "NULL\n"
     ]
    },
    {
     "name": "stdout",
     "output_type": "stream",
     "text": [
      " 3\n"
     ]
    },
    {
     "name": "stdout",
     "output_type": "stream",
     "text": [
      "ODD POSITIVE\n"
     ]
    },
    {
     "name": "stdout",
     "output_type": "stream",
     "text": [
      " -4\n"
     ]
    },
    {
     "name": "stdout",
     "output_type": "stream",
     "text": [
      "EVEN NEGATIVE\n"
     ]
    }
   ],
   "source": [
    "### exercicio 1174\n",
    "rep = int(input())\n",
    "for i in range(rep):\n",
    "    valor = int(input())\n",
    "    if valor > 0:\n",
    "        if valor % 2 == 0:\n",
    "            print(\"EVEN POSITIVE\")\n",
    "        else:\n",
    "            print(\"ODD POSITIVE\")\n",
    "    elif valor < 0:\n",
    "        if valor % 2 == 0:\n",
    "            print(\"EVEN NEGATIVE\")\n",
    "        else:\n",
    "            print(\"ODD NEGATIVE\")\n",
    "    elif valor == 0:\n",
    "        print(\"NULL\")"
   ]
  },
  {
   "cell_type": "code",
   "execution_count": null,
   "id": "fa46d21e-19ca-4586-b785-2a669e43d47b",
   "metadata": {},
   "outputs": [],
   "source": [
    "#exercicio 1175"
   ]
  },
  {
   "cell_type": "code",
   "execution_count": null,
   "id": "0d6f425d-bf89-4868-9146-212678fbb66f",
   "metadata": {},
   "outputs": [],
   "source": [
    "V = [int(input())]\n",
    "for rodada in range(9):\n",
    "    V.append(V[-1] * 2)\n",
    "\n",
    "for numero in V:\n",
    "    print(\"N[{}] = {}\".format(0, numero))"
   ]
  },
  {
   "cell_type": "code",
   "execution_count": null,
   "id": "fd83e805-cd0c-42e9-8a55-6475063d7382",
   "metadata": {},
   "outputs": [],
   "source": [
    "V = [int(input())]\n",
    "for rodada in range(9):\n",
    "    V.append(V[-1] * 2)\n",
    "\n",
    "i = 0\n",
    "\n",
    "for numero in V:\n",
    "    print(\"N[{}] = {}\".format(i, numero))\n",
    "    i += 1\n"
   ]
  },
  {
   "cell_type": "code",
   "execution_count": null,
   "id": "ff5da57a-212f-4e1e-b7a7-68abfdfbb4ef",
   "metadata": {},
   "outputs": [],
   "source": [
    "V = [int(input())]\n",
    "for rodada in range(9):\n",
    "    V.append(V[-1] * 2)\n",
    "\n",
    "for i, numero in enumerate(V):\n",
    "    print(\"N[{}] = {}\".format(i, numero))"
   ]
  },
  {
   "cell_type": "code",
   "execution_count": null,
   "id": "e6c767ce-8be4-401c-b843-d68cf06c538b",
   "metadata": {},
   "outputs": [],
   "source": [
    "#Beecrowd 1095\n",
    "i = 1\n",
    "j = 60\n",
    "\n",
    "while j >= 0:\n",
    "    print(f\"I={i} J={j}\")\n",
    "    i = i + 3\n",
    "    j = j - 5\n",
    "    "
   ]
  },
  {
   "cell_type": "code",
   "execution_count": null,
   "id": "a1762302-4890-4389-b5be-87756e2567c1",
   "metadata": {},
   "outputs": [],
   "source": [
    "#Beecrowd 1096\n",
    "i = 1\n",
    "j = 6\n",
    "for i in range(1, 10, 2):\n",
    "    for j in range(6+i, 3+1, -1):\n",
    "        print(f\"I={i} J={j}\")"
   ]
  },
  {
   "cell_type": "code",
   "execution_count": null,
   "id": "f80aace4-2a9e-4c6b-b642-2621ad87b91e",
   "metadata": {},
   "outputs": [
    {
     "name": "stdout",
     "output_type": "stream",
     "text": [
      "Digite a senha:  2002\n"
     ]
    },
    {
     "name": "stdout",
     "output_type": "stream",
     "text": [
      "Acesso Permitido\n"
     ]
    }
   ],
   "source": [
    "#Beecrowd 1114\n",
    "senha = 2002\n",
    "tentativas = 0\n",
    "while tentativas < 3:\n",
    "    entrada = int(input(\"Digite a senha: \"))\n",
    "    if entrada == senha:\n",
    "        print(\"Acesso Permitido\")\n",
    "        break\n",
    "    else:\n",
    "        print(\"Senha Invalida\")\n",
    "        tentativas += 1\n",
    "\n",
    "if tentativas == 3:\n",
    "    print(\"Tentativas esgotadas. Acesso negado.\")"
   ]
  },
  {
   "cell_type": "code",
   "execution_count": null,
   "id": "aa978006-e882-43cf-afb7-b7244f882adf",
   "metadata": {},
   "outputs": [],
   "source": [
    "#beecrowd 1117\n",
    "lista_de_notas = []\n",
    "notas_validas = 0\n",
    "while notas_validas < 2:\n",
    "    nota = float(input())\n",
    "    if 0 < nota < 10:\n",
    "        lista_de_notas.append(nota)\n",
    "        notas_validas +=1\n",
    "    else:\n",
    "        print(\"nota invalida\")\n",
    "media = sum(lista_de_notas) / len(lista_de_notas)\n",
    "print(\"media =\", media)"
   ]
  },
  {
   "cell_type": "code",
   "execution_count": null,
   "id": "b5924cd5-144c-4478-881c-5ddffdb16222",
   "metadata": {},
   "outputs": [
    {
     "name": "stdout",
     "output_type": "stream",
     "text": [
      "indique o tipo de combustivel (1, 2, 3, ou para terminar: 4):  1\n",
      "indique o tipo de combustivel (1, 2, 3, ou para terminar: 4):  1\n",
      "indique o tipo de combustivel (1, 2, 3, ou para terminar: 4):  1\n",
      "indique o tipo de combustivel (1, 2, 3, ou para terminar: 4):  2\n",
      "indique o tipo de combustivel (1, 2, 3, ou para terminar: 4):  2\n",
      "indique o tipo de combustivel (1, 2, 3, ou para terminar: 4):  3\n",
      "indique o tipo de combustivel (1, 2, 3, ou para terminar: 4):  4\n"
     ]
    },
    {
     "name": "stdout",
     "output_type": "stream",
     "text": [
      "MUITO OBRIGADO\n",
      "alcohol: 3\n",
      "gasolina: 2\n",
      "diesel: 1\n"
     ]
    }
   ],
   "source": [
    "#beecrowd 1134\n",
    "alcohol = []\n",
    "gasolina = []\n",
    "diesel = []\n",
    "entries = 0\n",
    "while True:\n",
    "    valor = int(input())\n",
    "    if valor == 1:\n",
    "        alcohol.append(valor)\n",
    "        entries += 1\n",
    "    elif valor == 2:\n",
    "        gasolina.append(valor)\n",
    "        entries += 1\n",
    "    elif valor == 3:\n",
    "        diesel.append(valor)\n",
    "        entries += 1\n",
    "    elif valor == 4:\n",
    "        break\n",
    "print(\"MUITO OBRIGADO\")\n",
    "print(\"alcohol:\", len(alcohol))\n",
    "print(\"gasolina:\", len(gasolina))\n",
    "print(\"diesel:\", len(diesel))"
   ]
  },
  {
   "cell_type": "code",
   "execution_count": null,
   "id": "f4ba7168-9a35-40ac-a447-788cbb55bbb3",
   "metadata": {},
   "outputs": [
    {
     "name": "stdout",
     "output_type": "stream",
     "text": [
      " 7\n"
     ]
    },
    {
     "name": "stdout",
     "output_type": "stream",
     "text": [
      "1 2 3 PUM\n",
      "5 6 7 PUM\n",
      "9 10 11 PUM\n",
      "13 14 15 PUM\n",
      "17 18 19 PUM\n",
      "21 22 23 PUM\n",
      "25 26 27 PUM\n"
     ]
    }
   ],
   "source": [
    "#Beecrowd 1143\n",
    "valor = int(input())\n",
    "a = 1\n",
    "b = 2\n",
    "c = 3\n",
    "print(a, b, c, \"PUM\")\n",
    "for i in range(1, valor):\n",
    "    c +=4\n",
    "    b = c-1\n",
    "    a = c-2\n",
    "    print(a, b, c, \"PUM\")    "
   ]
  },
  {
   "cell_type": "code",
   "execution_count": null,
   "id": "2fa71681-7a11-4b58-932a-50ec5e21ff23",
   "metadata": {},
   "outputs": [
    {
     "name": "stdout",
     "output_type": "stream",
     "text": [
      " 5\n"
     ]
    },
    {
     "name": "stdout",
     "output_type": "stream",
     "text": [
      "1 1 1\n",
      "2 4 8\n",
      "3 9 27\n",
      "4 16 64\n",
      "5 25 125\n"
     ]
    }
   ],
   "source": [
    "#Beecrowd 1143\n",
    "valor = int(input())\n",
    "saida1 = 1\n",
    "saidafinal = 0\n",
    "multi = 2\n",
    "print(saida1, saida1, saida1)\n",
    "while saidafinal < valor-1:\n",
    "    saida1 +=1\n",
    "    saida2 = saida1 ** 2\n",
    "    saida3 = saida2 * multi\n",
    "    multi +=1\n",
    "    saidafinal +=1\n",
    "    print(saida1, saida2, saida3)"
   ]
  },
  {
   "cell_type": "code",
   "execution_count": null,
   "id": "a521947b-d70c-4b93-8a99-8ebdcf2f2fd3",
   "metadata": {},
   "outputs": [
    {
     "name": "stdout",
     "output_type": "stream",
     "text": [
      " 5\n"
     ]
    },
    {
     "name": "stdout",
     "output_type": "stream",
     "text": [
      "1 1 1\n",
      "2 4 8\n",
      "3 9 27\n",
      "4 16 64\n",
      "5 25 125\n"
     ]
    }
   ],
   "source": [
    "#Beecrowd 1143\n",
    "n = int(input())\n",
    "for i in range(1, n+1):\n",
    "    print(\"{} {} {}\".format(i,i*i,i*i*i))"
   ]
  },
  {
   "cell_type": "code",
   "execution_count": null,
   "id": "29402562-c965-45dd-8595-4ecb1307569e",
   "metadata": {},
   "outputs": [],
   "source": [
    "#Beecrowd 1144\n",
    "valor = int(input())\n",
    "saida1 = 1\n",
    "saidafinal = 0\n",
    "multi = 2\n",
    "print(saida1, saida1, saida1)\n",
    "while saidafinal < valor-1:\n",
    "    saida1 +=1\n",
    "    saida2 = saida1 ** 2\n",
    "    saida3 = saida2 * multi\n",
    "    multi +=1\n",
    "    saidafinal +=1\n",
    "    print(saida1, saida2, saida3)"
   ]
  },
  {
   "cell_type": "code",
   "execution_count": null,
   "id": "d088ba12-ca22-40ce-a80e-00861d756c62",
   "metadata": {},
   "outputs": [],
   "source": [
    "#fizzbuzz\n",
    "\n",
    "value = int(input())\n",
    "output = \"\"\n",
    "if value % 3 == 0:\n",
    "    output = \"Fizz\"\n",
    "if value % 5 == 0:\n",
    "    output = \"Buzz\"\n",
    "if value % 3 == 0 and value % 5 == 0:\n",
    "    output = \"Fizzbuzz\"    \n",
    "print(output)"
   ]
  },
  {
   "cell_type": "code",
   "execution_count": null,
   "id": "fabd5431-aaaa-4e9b-af4d-0fd7870c4b43",
   "metadata": {},
   "outputs": [],
   "source": [
    "class lanche():\n",
    "\n",
    "    def __init__(self, comida, quantidade):\n",
    "        self.comida = menu = {\"1\":4, \n",
    "                       \"2\":4.5, \n",
    "                       \"3\":5, \n",
    "                       \"4\":2, \n",
    "                       \"5\":1.5}\n",
    "        self.quantidade = 0\n",
    "    \n",
    "    def preco():\n",
    "        real_preco = menu[pedido]\n",
    "        quantidade\n",
    "        return\n",
    "    \n",
    "    def quantidade():\n",
    "        real_preco * quanto\n",
    "        final\n",
    "        return\n",
    "    \n",
    "    def final():\n",
    "        print(\"preco final é:\", quantidade)\n",
    "\n",
    "pedido = str(input(\"indique o codigo do produto que pretende\"))\n",
    "quanto = int(input(\"indique a quantidade do produto pretendido\")\n",
    "\n",
    "preco()"
   ]
  },
  {
   "cell_type": "code",
   "execution_count": null,
   "id": "ec2b0c26-57a1-485e-80e5-de9b94e5cdca",
   "metadata": {},
   "outputs": [],
   "source": [
    "class Produtos():\n",
    "    def __init__(self, codigo, especificacao, preco):\n",
    "        self.codigo = codigo\n",
    "        self.especificacao = especificacao\n",
    "        self.preco = preco\n",
    "\n",
    "    def precos(self):\n",
    "        quantidade = int(input(\"Que quantidade deseja?\"))\n",
    "        precofinal = quantidade * self.preco\n",
    "        return precofinal\n",
    "\n",
    "prod1 = Produtos(1,\"cachorro\",4)\n",
    "prod2 = Produtos(2,\"Salada\",4.5)\n",
    "prod3 = Produtos(3,\"bacon\",5)\n",
    "prod4 = Produtos(4,\"torrada\",2)\n",
    "prod5 = Produtos(5,\"refrigerante\",1.5)\n",
    "\n",
    "print(prod1.precos())"
   ]
  },
  {
   "cell_type": "code",
   "execution_count": null,
   "id": "cee3f9a0-d8d3-4dfb-9bae-e865b9286d23",
   "metadata": {},
   "outputs": [],
   "source": [
    "#Classes\n",
    "class Quadrado():\n",
    "    def ___init__(self, lado):\n",
    "        self.lado = lado\n",
    "    \n",
    "    def perimetro(self):\n",
    "        perimetro_real = self.lado * 4\n",
    "        return perimetro_real\n",
    "    \n",
    "    def area(self):\n",
    "        area_real = self.lado * 2\n",
    "        return area_real\n",
    "\n",
    "class Rectangulo(self):\n",
    "    def __init__(self, comprimento, largura):\n",
    "        self.comprimento = comprimento\n",
    "        self.largura = largura\n",
    "        \n",
    "    def perimetro(self):\n",
    "        perimetro_real = 2 * (self.comprimento + self.largura)\n",
    "        return perimetro_real\n",
    "    \n",
    "    def area(self):\n",
    "        area_real = self.comprimento * self.largura\n",
    "        return area_real\n",
    "    \n",
    "class Circulo():\n",
    "    def ___init__(self, raio):\n",
    "        self.raio = raio\n",
    "        pi = 3.14\n",
    "    \n",
    "    def perimetro(self):\n",
    "        perimetro_real = 2 * pi * self.raio\n",
    "        return perimetro_real\n",
    "    \n",
    "    def area(self):\n",
    "        area_real = pi * (self.raio**2)\n",
    "        return area_real\n",
    "\n",
    "    "
   ]
  }
 ],
 "metadata": {
  "kernelspec": {
   "display_name": "Python 3 (ipykernel)",
   "language": "python",
   "name": "python3"
  },
  "language_info": {
   "codemirror_mode": {
    "name": "ipython",
    "version": 3
   },
   "file_extension": ".py",
   "mimetype": "text/x-python",
   "name": "python",
   "nbconvert_exporter": "python",
   "pygments_lexer": "ipython3",
   "version": "3.12.3"
  }
 },
 "nbformat": 4,
 "nbformat_minor": 5
}
